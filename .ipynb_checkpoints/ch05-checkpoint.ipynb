{
 "cells": [
  {
   "cell_type": "markdown",
   "metadata": {},
   "source": [
    "第5章 厳密解から近似解へ\n",
    "=="
   ]
  },
  {
   "cell_type": "markdown",
   "metadata": {
    "collapsed": true
   },
   "source": [
    "$\\mathbf{Ax}$と$\\mathbf{b}$に少し差があっても許容するように$(P^{0})$ を考え直すことにする。ここでは許容誤差$\\epsilon > 0$を用いて，問題$(P_{0})$の誤差を許容する変形版を次のように定義する．\n",
    "\n",
    "$$ (P_{0}^{\\epsilon}): \\, \\min_{x} \\|x\\|_{0} \\text{ subject to } \\|\\mathbf{b} - \\mathbf{Ax}\\|_{2}^{2} $$"
   ]
  },
  {
   "cell_type": "markdown",
   "metadata": {},
   "source": [
    "#### 定義5.1（スパークの一般化）\n",
    "行列$\\mathbf{A}\\in\\mathbb{R}^{n×m}$の$s$個の列からなる部分行列を$\\mathbf{A}_{s}\\in\\mathbb{R}^{n×s}$とする．スパーク$\\rm{spark}_{\\eta}(\\mathbf{A})$を$$\\rm{min}_{s}\\sigma_{s}(\\mathbf{A}_s)\\leq \\eta$$を保証する最小の$s$（列の数）と定義する．言い換えれば，$\\mathbf{A}_{s}$の最小特異値が$\\eta$を超えないような，最も少ない$\\mathbf{A}_{s}$の列数である．\n",
    "\n",
    "$\\eta = 0$の場合は，選択した列が線形従属かどうかを判定していることになり，したがって$\\rm{spark}_{0}(\\mathbf{A})=\\rm{spark}(\\mathbf{A})$である．\n",
    "\n",
    "$$ \\forall 0 \\leq \\eta \\leq 1 ,\\, 1 \\leq \\rm{spark}_{\\eta} (\\mathbf{A}) \\leq \\rm{spark}(\\mathbf{A}) \\leq n + 1 $$\n",
    "\n",
    "任意の一つの（正規化された）列の特異値は1なので，$\\eta = 1$ならば$\\rm{spark}_{\\eta}(\\mathbf{A})=1$である．"
   ]
  },
  {
   "cell_type": "markdown",
   "metadata": {},
   "source": [
    "OMPによる$(P_{0}^{\\epsilon})$の解法\n",
    "--\n",
    "停止条件を$\\epsilon_{0}=\\epsilon$とすれば，このアルゴリズムは制約条件$\\|\\mathbf{b}-\\mathbf{Ax}\\|_{2}\\leq\\epsilon$が満たされるまで解ベクトルの非ゼロ要素を積算することになる．修正はこのように軽微で済むので，OMPを実装し実行することは簡単で，広く使われている．"
   ]
  },
  {
   "cell_type": "markdown",
   "metadata": {
    "collapsed": true
   },
   "source": [
    "基底追跡ノイズ除去（basis pursuit denoising; BPDN）\n",
    "--\n",
    "$$ (P_{1}^{\\epsilon}): \\, \\min_{x} \\|x\\|_{1} \\text{ subject to } \\|\\mathbf{b}-\\mathbf{Ax}\\|_{2}$$\n",
    "\n",
    "適切なラグランジュ乗数$\\lambda$に対して，$(P_{1}^{\\epsilon})$の解は，以下の制約なし最適化問題の解に一致する．\n",
    "\n",
    "$$ (Q_{1}^{\\lambda}): \\, \\min_{x} \\lambda \\|x\\|_1 + \\frac{1}{2} \\|\\mathbf{b} - \\mathbf{Ax}\\|^{2}_{2}$$"
   ]
  },
  {
   "cell_type": "markdown",
   "metadata": {},
   "source": [
    "反復重み付け最小二乗法（IRLS）\n",
    "--\n",
    "* $(Q_{1}^{\\lambda})$を解く単純な方法\n",
    "\n",
    "$\\mathbf{X} = \\rm{diag}(|\\mathbf{x}|)$とすると，$\\|\\mathbf{x}\\|_{1} = \\mathbf{x}^{T}mathbf{X}^{-1}\\mathbf{x}$である．つまり$\\ell_{1}$ノルムは（重み付き）2乗$\\ell_{2}$ノルムと見なすことができる．現在の近似界を$\\mathbf{x}_{k_1}$が与えられたら，$\\mathbf{X}_{k-1}=\\rm{diag}(|\\mathbf{x}_{k-1}|)$とおいて以下の問題を解く．\n",
    "\n",
    "$$ (M_{k}):\\, \\min_{x} \\lambda \\mathbf{x}^{T}\\mathbf{X}^{-1}_{k-1}\\mathbf{x} + \\frac{1}{2}\\|\\mathbf{b}-\\mathbf{Ax}\\|_{2}^{2}$$"
   ]
  },
  {
   "cell_type": "markdown",
   "metadata": {},
   "source": [
    "IRLSの具体例\n",
    "--\n",
    "ここでは経験則に従って，$\\sigma$と非ゼロ要素の標準偏差の比に近い値を$\\lambda$とする。"
   ]
  },
  {
   "cell_type": "code",
   "execution_count": 212,
   "metadata": {
    "collapsed": true
   },
   "outputs": [],
   "source": [
    "# 数値例生成\n",
    "class NumericalExample2(object):\n",
    "    def __init__(self, n=100, m=200, k=4, sig=0.1):\n",
    "        \"\"\" \n",
    "        n 行数\n",
    "        m 列数\n",
    "        k 非ゼロの要素数 \n",
    "        A 冗長なシステム行列 mxn\n",
    "        x スパースな解 m\n",
    "        b ノイズを含む観測 n\n",
    "        S サポート m\n",
    "        \"\"\"\n",
    "        # 冗長なシステム行列A\n",
    "        self.A = (np.random.rand(n, m) - 0.5) * 2\n",
    "        self.A = np.dot(self.A, np.diag(1. / np.sqrt(np.diag(np.dot(self.A.T, self.A)))))    \n",
    "        \n",
    "        #　スパースなx\n",
    "        self.x = np.zeros(m)\n",
    "        ndx = np.random.randint(0, m - 1, k)\n",
    "        for i in ndx:\n",
    "            self.x[i] = np.random.rand() + 1.\n",
    "            if np.random.rand() < 0.5:\n",
    "                self.x[i] *= -1.\n",
    "\n",
    "        # 雑音を含む観測n\n",
    "        self.b = np.dot(self.A, self.x) + randn(n) * sig\n",
    "        \n",
    "        # サポートS\n",
    "        self.S = np.zeros(m, dtype=np.uint8)\n",
    "        self.S[ndx] = 1"
   ]
  },
  {
   "cell_type": "code",
   "execution_count": 258,
   "metadata": {
    "collapsed": false
   },
   "outputs": [],
   "source": [
    "from scipy.optimize import fmin_cg, minimize\n",
    "\n",
    "# IRLSアルゴリズム\n",
    "class IRLS(object):\n",
    "    \"\"\" 反復重み付け最小二乗(iterative-reweighted-least-squares; IRLS) \"\"\"\n",
    "\n",
    "    def __init__(self, A, b, sig=0.1, niter=1000):\n",
    "        \"\"\"\n",
    "        A m×n行列\n",
    "        b n要素の観測\n",
    "        sig 雑音の標準偏差\n",
    "        eps 誤差の閾値\n",
    "        iter 反復回数\n",
    "        \"\"\"\n",
    "        self.A = A\n",
    "        self.b = b\n",
    "        self.eps = 0.01\n",
    "        self.niter = niter\n",
    "                \n",
    "    def fit(self, lam=0.05):    \n",
    "\n",
    "        def f(x, *args):\n",
    "            \"\"\" コスト関数 \"\"\"\n",
    "            lam, w, A, b = args\n",
    "            reg = lam * np.dot(x.T, x / w) \n",
    "            err = b - np.dot(A, x)\n",
    "            err2 = np.dot(err.T, err)\n",
    "            return reg + err2 / 2.\n",
    "                \n",
    "        # 初期化\n",
    "        x = np.ones(self.A.shape[1])\n",
    "        w = np.ones(self.A.shape[1])\n",
    "        for i in xrange(self.niter):\n",
    "            x_prev = x.copy()\n",
    "            res = minimize(f, x, args=(lam, w, self.A, self.b), method='CG', \n",
    "                           options={'maxiter': 3})\n",
    "            x = res.x\n",
    "            w = np.abs(x) + self.eps\n",
    "            update = np.sum(np.abs(x - x_prev))\n",
    "            print i, update\n",
    "            if update < self.eps:\n",
    "                break\n",
    "        \n",
    "        # サポート\n",
    "        S = np.zeros(self.A.shape[1], dtype=np.uint8)\n",
    "        S[np.abs(x) > 0] = 1\n",
    "\n",
    "        return x, S, w"
   ]
  },
  {
   "cell_type": "code",
   "execution_count": 259,
   "metadata": {
    "collapsed": false
   },
   "outputs": [
    {
     "name": "stdout",
     "output_type": "stream",
     "text": [
      "0 111.83556189\n",
      "1 36.3538073987\n",
      "2 24.4174860681\n",
      "3 31.3857508355\n",
      "4 21.8566215147\n",
      "5 9.26865071548\n",
      "6 5.40242229146\n",
      "7 3.74507373667\n",
      "8 1.96300717176\n",
      "9 0.881055165208\n",
      "10 0.504464156546\n",
      "11 0.359952196461\n",
      "12 0.153292963441\n",
      "13 0.12313239723\n",
      "14 0.0900150879262\n",
      "15 0.0572766089489\n",
      "16 0.0407206905804\n",
      "17 0.0255654188217\n",
      "18 0.0187057464648\n",
      "19 0.0122484120869\n",
      "20 0.00864178154228\n"
     ]
    }
   ],
   "source": [
    "ne2 = NumericalExample2()\n",
    "irls = IRLS(ne2.A, ne2.b, niter=100)\n",
    "x, S, w = irls.fit()"
   ]
  },
  {
   "cell_type": "code",
   "execution_count": 260,
   "metadata": {
    "collapsed": false
   },
   "outputs": [
    {
     "data": {
      "text/plain": [
       "[<matplotlib.lines.Line2D at 0x111c51910>]"
      ]
     },
     "execution_count": 260,
     "metadata": {},
     "output_type": "execute_result"
    },
    {
     "data": {
      "image/png": "[encoded data removed]",
      "text/plain": [
       "<matplotlib.figure.Figure at 0x111807290>"
      ]
     },
     "metadata": {},
     "output_type": "display_data"
    }
   ],
   "source": [
    "plt.plot(x)"
   ]
  },
  {
   "cell_type": "code",
   "execution_count": null,
   "metadata": {
    "collapsed": true
   },
   "outputs": [],
   "source": []
  }
 ],
 "metadata": {
  "kernelspec": {
   "display_name": "Python 2",
   "language": "python",
   "name": "python2"
  },
  "language_info": {
   "codemirror_mode": {
    "name": "ipython",
    "version": 2
   },
   "file_extension": ".py",
   "mimetype": "text/x-python",
   "name": "python",
   "nbconvert_exporter": "python",
   "pygments_lexer": "ipython2",
   "version": "2.7.5"
  }
 },
 "nbformat": 4,
 "nbformat_minor": 0
}
