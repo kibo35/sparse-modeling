{
 "cells": [
  {
   "cell_type": "markdown",
   "metadata": {},
   "source": [
    "第5章 厳密解から近似解へ\n",
    "=="
   ]
  },
  {
   "cell_type": "markdown",
   "metadata": {
    "collapsed": true
   },
   "source": [
    "#### 定義5.1（スパークの一般化）\n",
    "行列$\\mathbf{A}\\in\\mathbb{R}^{n×m}$の$s$個の列からなる部分行列を$\\mathbf{A}_{s}\\in\\mathbb{R}^{n×s}$とする．スパーク$\\rm{spark}_{\\eta}(\\mathbf{A})$を$$\\rm{min}_{s}\\sigma_{s}(\\mathbf{A}_s)\\leq \\eta$$を保証する最小の$s$（列の数）と定義する．言い換えれば，$\\mathbf{A}_{s}$の最小特異値が$\\eta$を超えないような，最も少ない$\\mathbf{A}_{s}$の列数である．\n",
    "\n",
    "$\\eta = 0$の場合は，選択した列が線形従属かどうかを判定していることになり，したがって$\\rm{spark}_{0}(\\mathbf{A})=\\rm{spark}(\\mathbf{A})$である．\n",
    "\n",
    "$$ \\forall 0 \\leq \\eta \\leq 1 ,\\, 1 \\leq \\rm{spark}_{\\eta} (\\mathbf{A}) \\leq \\rm{spark}(\\mathbf{A}) \\leq n + 1 $$\n",
    "\n",
    "任意の一つの（正規化された）列の特異値は1なので，$\\eta = 1$ならば$\\rm{spark}_{\\eta}(\\mathbf{A})=1$である．"
   ]
  },
  {
   "cell_type": "code",
   "execution_count": null,
   "metadata": {
    "collapsed": true
   },
   "outputs": [],
   "source": []
  }
 ],
 "metadata": {
  "kernelspec": {
   "display_name": "Python 2",
   "language": "python",
   "name": "python2"
  },
  "language_info": {
   "codemirror_mode": {
    "name": "ipython",
    "version": 2
   },
   "file_extension": ".py",
   "mimetype": "text/x-python",
   "name": "python",
   "nbconvert_exporter": "python",
   "pygments_lexer": "ipython2",
   "version": "2.7.5"
  }
 },
 "nbformat": 4,
 "nbformat_minor": 0
}
