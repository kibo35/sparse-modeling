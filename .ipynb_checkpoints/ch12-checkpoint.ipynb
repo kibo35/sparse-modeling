{
 "cells": [
  {
   "cell_type": "markdown",
   "metadata": {},
   "source": [
    "スパースモデリング第12章　辞書の探求\n",
    "=="
   ]
  },
  {
   "cell_type": "code",
   "execution_count": 1,
   "metadata": {
    "collapsed": true
   },
   "outputs": [],
   "source": [
    "from matplotlib.font_manager import FontProperties\n",
    "\n",
    "font_path = u'/Library/Fonts/ヒラギノ角ゴ Pro W3.otf'\n",
    "font_prop = FontProperties(fname=font_path)\n",
    "plt.rc('font',family=font_prop.get_name())"
   ]
  },
  {
   "cell_type": "markdown",
   "metadata": {},
   "source": [
    "ランダムな辞書を生成\n",
    "--"
   ]
  },
  {
   "cell_type": "code",
   "execution_count": 45,
   "metadata": {
    "collapsed": false
   },
   "outputs": [
    {
     "data": {
      "text/plain": [
       "<matplotlib.colorbar.Colorbar at 0x1180c4f28>"
      ]
     },
     "execution_count": 45,
     "metadata": {},
     "output_type": "execute_result"
    },
    {
     "data": {
      "image/png": "[encoded data removed]",
      "text/plain": [
       "<matplotlib.figure.Figure at 0x117f1d978>"
      ]
     },
     "metadata": {},
     "output_type": "display_data"
    }
   ],
   "source": [
    "A0 = np.random.randn(30, 60)\n",
    "A0 = np.dot(A0, np.diag(1. / np.sqrt(np.diag(np.dot(A0.T, A0)))))\n",
    "\n",
    "plt.imshow(A0, cmap='gray', interpolation='Nearest')\n",
    "plt.colorbar(fraction=0.024, pad=0.04)"
   ]
  },
  {
   "cell_type": "markdown",
   "metadata": {},
   "source": [
    "信号事例を生成\n",
    "--"
   ]
  },
  {
   "cell_type": "code",
   "execution_count": 79,
   "metadata": {
    "collapsed": false
   },
   "outputs": [
    {
     "data": {
      "text/plain": [
       "(0, 29)"
      ]
     },
     "execution_count": 79,
     "metadata": {},
     "output_type": "execute_result"
    },
    {
     "data": {
      "image/png": "[encoded data removed]",
      "text/plain": [
       "<matplotlib.figure.Figure at 0x118ae5f28>"
      ]
     },
     "metadata": {},
     "output_type": "display_data"
    }
   ],
   "source": [
    "Y = np.zeros((30, 4000))\n",
    "sig = 0.1\n",
    "for i in range(4000):\n",
    "    Y[:, i] = np.dot(A0[:, np.random.randint(60, size=4)], np.random.randn(4)) + np.random.randn(30) * sig\n",
    "    \n",
    "plt.bar(range(30), Y[:, 0])\n",
    "plt.xlim(0, 29)"
   ]
  },
  {
   "cell_type": "markdown",
   "metadata": {},
   "source": [
    "追跡法\n",
    "--"
   ]
  },
  {
   "cell_type": "code",
   "execution_count": 73,
   "metadata": {
    "collapsed": true
   },
   "outputs": [],
   "source": [
    "def OMP(A, b, k0, eps):\n",
    "    \"\"\" \n",
    "    直交マッチング追跡(orthogonal matching pursuit; OMP) \n",
    "    \n",
    "    A nxm行列\n",
    "    b n要素の観測\n",
    "    eps 誤差の閾値\n",
    "\n",
    "    \"\"\"\n",
    "    # 初期化\n",
    "    x = np.zeros(A.shape[1])\n",
    "    S = np.zeros(A.shape[1], dtype=np.uint8)\n",
    "    r = b.copy()\n",
    "    rr = np.dot(r, r)\n",
    "    for _ in range(k0):\n",
    "        # 誤差計算\n",
    "        err = rr - np.dot(A[:, S == 0].T, r) ** 2\n",
    "            \n",
    "        # サポート更新\n",
    "        ndx = np.where(S == 0)[0]\n",
    "        S[ndx[err.argmin()]] = 1\n",
    "    \n",
    "        # 解更新\n",
    "        As = A[:, S == 1]\n",
    "        pinv = np.linalg.pinv(np.dot(As, As.T))\n",
    "        x[S == 1] = np.dot(As.T, np.dot(pinv, b))\n",
    "        \n",
    "        # 残差更新\n",
    "        r = b - np.dot(A, x)\n",
    "        rr = np.dot(r, r)\n",
    "        if rr < eps:\n",
    "            break\n",
    "            \n",
    "    return x, S"
   ]
  },
  {
   "cell_type": "markdown",
   "metadata": {},
   "source": [
    "MOD辞書学習アルゴリズム\n",
    "--"
   ]
  },
  {
   "cell_type": "code",
   "execution_count": 89,
   "metadata": {
    "collapsed": false
   },
   "outputs": [
    {
     "name": "stdout",
     "output_type": "stream",
     "text": [
      "0 80.5364789346\n",
      "1 70.7379659359\n",
      "2 66.7825664011\n",
      "3 63.9050495583\n",
      "4 61.4312710315\n",
      "5 58.8703413602\n",
      "6 56.0074535689\n",
      "7 53.0070671554\n",
      "8 50.0009771048\n",
      "9 47.4422438146\n",
      "10 45.2280159627\n",
      "11 43.3178867375\n",
      "12 41.6112524511\n",
      "13 40.21281358\n",
      "14 38.9666662483\n",
      "15 38.0982715549\n",
      "16 37.4177660906\n",
      "17 37.0497388146\n",
      "18 36.8066898526\n",
      "19 36.5962681466\n",
      "20 36.306276783\n",
      "21 35.9858438961\n",
      "22 35.6497362038\n",
      "23 35.3582607831\n",
      "24 35.0547372578\n",
      "25 34.8211333375\n",
      "26 34.6442136478\n",
      "27 34.588983748\n",
      "28 34.5275564033\n",
      "29 34.4742517992\n",
      "30 34.4378332534\n",
      "31 34.2963186998\n",
      "32 34.1975860258\n",
      "33 34.1473063721\n",
      "34 34.1205528545\n",
      "35 34.1588371616\n",
      "36 34.1446971071\n",
      "37 34.1397212555\n",
      "38 34.1417747763\n",
      "39 34.1071533205\n",
      "40 34.0289750688\n",
      "41 33.9875513149\n",
      "42 33.9902891718\n",
      "43 34.0115921216\n",
      "44 33.9982298451\n",
      "45 33.9928396031\n",
      "46 33.984360251\n",
      "47 33.9863019213\n",
      "48 33.9863891357\n",
      "49 33.9847068317\n"
     ]
    },
    {
     "data": {
      "text/plain": [
       "<matplotlib.colorbar.Colorbar at 0x1180360f0>"
      ]
     },
     "execution_count": 89,
     "metadata": {},
     "output_type": "execute_result"
    },
    {
     "data": {
      "image/png": "[encoded data removed]",
      "text/plain": [
       "<matplotlib.figure.Figure at 0x118591ba8>"
      ]
     },
     "metadata": {},
     "output_type": "display_data"
    }
   ],
   "source": [
    "# 初期辞書\n",
    "A = np.random.randn(30, 60)\n",
    "A = np.dot(A, np.diag(1. / np.sqrt(np.diag(np.dot(A.T, A)))))\n",
    "\n",
    "X = np.zeros((A.shape[1], Y.shape[1]))\n",
    "eps = A.shape[0] * (sig ** 2)\n",
    "k0 = 4\n",
    "n_iter = 50\n",
    "\n",
    "for k in range(n_iter):\n",
    "    for i in range(Y.shape[1]):\n",
    "        X[:, i], _ = OMP(A, Y[:, i], k0, eps=eps)\n",
    "\n",
    "    A = np.dot(Y, np.dot(X.T, np.linalg.pinv(np.dot(X, X.T))))\n",
    "    A = np.dot(A, np.diag(1. / np.sqrt(np.diag(np.dot(A.T, A)))))\n",
    "\n",
    "    err = np.linalg.norm(Y - np.dot(A, X))\n",
    "    print(k, err)\n",
    "    if k == 0:\n",
    "        err_old = err\n",
    "    else:\n",
    "        opt = err_old - err\n",
    "        if opt < 1e-6:\n",
    "            break\n",
    "        \n",
    "plt.imshow(A, cmap='gray', interpolation='Nearest')\n",
    "plt.colorbar(fraction=0.024, pad=0.04)"
   ]
  },
  {
   "cell_type": "code",
   "execution_count": 94,
   "metadata": {
    "collapsed": false
   },
   "outputs": [
    {
     "data": {
      "text/plain": [
       "0"
      ]
     },
     "execution_count": 94,
     "metadata": {},
     "output_type": "execute_result"
    }
   ],
   "source": [
    "np.sum(np.diag(np.dot(A0.T, A)) > 0.99)"
   ]
  },
  {
   "cell_type": "code",
   "execution_count": null,
   "metadata": {
    "collapsed": true
   },
   "outputs": [],
   "source": []
  }
 ],
 "metadata": {
  "kernelspec": {
   "display_name": "Python 3",
   "language": "python",
   "name": "python3"
  },
  "language_info": {
   "codemirror_mode": {
    "name": "ipython",
    "version": 3
   },
   "file_extension": ".py",
   "mimetype": "text/x-python",
   "name": "python",
   "nbconvert_exporter": "python",
   "pygments_lexer": "ipython3",
   "version": "3.5.2"
  }
 },
 "nbformat": 4,
 "nbformat_minor": 0
}
