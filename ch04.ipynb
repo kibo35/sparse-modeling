{
 "cells": [
  {
   "cell_type": "markdown",
   "metadata": {},
   "source": [
    "第4章 追跡アルゴリズムの性能保証\n",
    "=="
   ]
  },
  {
   "cell_type": "markdown",
   "metadata": {},
   "source": [
    "定理4.1（OMPの最適解保証：二つの直交行列の場合）\n",
    "--\n",
    "$\\mathbf{\\Psi}$,$\\mathbf{\\Phi}$を$n×n$の直交行列とする．線形連立方程式$\\mathbf{Ax}=[\\mathbf{\\Psi},\\mathbf{\\Phi}]\\mathbf{x}=\\mathbf{b}$に対して，もし，解$\\mathbf{x}$が存在して、最初の$n$個の要素の中に$k_p$個の非ゼロ要素があり，\n",
    "$$max(k_p,k_q)<\\frac{1}{2\\mu(\\mathbf{A})}$$\n",
    "が成り立つならば，しきい値パラメータ$\\epsilon_0=0$で実行されるOMPは$k_0=k_p+K_q$回の反復で最適解を与える．"
   ]
  },
  {
   "cell_type": "markdown",
   "metadata": {},
   "source": [
    "定理4.2（基底追跡の最適解保証：二つの直交行列の場合）\n",
    "--\n",
    "$\\mathbf{\\Psi}$,$\\mathbf{\\Phi}$を$n×n$の直交行列とする．線形連立方程式$\\mathbf{Ax}=[\\mathbf{\\Psi},\\mathbf{\\Phi}]\\mathbf{x}=\\mathbf{b}$に対して，もし，解$\\mathbf{x}$が存在して、最初の$n$個の要素の中に$k_p$個の非ゼロ要素があり，\n",
    "$$2\\mu(\\mathbf{A})^2k_pk_q+\\mu(\\mathbf{A})k_p-1<0$$\n",
    "が成り立つならば，得られた解は$(P_1)$の一意解であり，${P_0}$の一意解でもある．"
   ]
  },
  {
   "cell_type": "markdown",
   "metadata": {},
   "source": [
    "線形計画問題(LP)\n",
    "--\n",
    "\n",
    "BP（基底追跡）の解$\\mathbf{x}$より$L_0$ノルムが大きくて$L_1$ノルムが小さい解$\\mathbf{y}$の集合\n",
    "\n",
    "$C = \\{\\mathbf{y}\\,|\\,\n",
    "\\mathbf{y}\\neq \\mathbf{x},\\,\n",
    "\\|\\mathbf{y}\\|_1\\leq\\|\\mathbf{x}\\|_1,\\,\n",
    "\\|\\mathbf{y}\\|_0\\geq\\|\\mathbf{x}\\|_0,\\,\n",
    "\\mathbf{A}(\\mathbf{y}-\\mathbf{x})=\\mathbf{0}\\}\n",
    "$\n",
    "\n",
    "が与えられた条件\n",
    "\n",
    "$2\\mu(\\mathbf{A})^2k_pk_q+\\mu(\\mathbf{A})k_p-1<0$<br>\n",
    "\n",
    "もしくはもっと解釈が容易な条件\n",
    "\n",
    "$\\|x\\|_0=k_p+k_q<\\frac{\\sqrt{2}-0.5}{\\mu(\\mathbf{A})}$\n",
    "\n",
    "の元で空となることを証明する"
   ]
  },
  {
   "cell_type": "code",
   "execution_count": 55,
   "metadata": {
    "collapsed": false
   },
   "outputs": [
    {
     "data": {
      "text/plain": [
       "     fun: 50.0\n",
       " message: 'Optimization failed. Unable to find a feasible starting point.'\n",
       "     nit: 100\n",
       "  status: 2\n",
       " success: False\n",
       "       x: nan"
      ]
     },
     "execution_count": 55,
     "metadata": {},
     "output_type": "execute_result"
    }
   ],
   "source": [
    "from scipy.optimize import linprog\n",
    "\n",
    "# パラメータ\n",
    "n, kp, kq, mu = 50, 9, 7, 0.1\n",
    "\n",
    "one_p = [1.] * kp + [0.] * (n - kp)\n",
    "one_q = [1.] * kq + [0.] * (n - kq)\n",
    "C = np.array(one_p + one_q)\n",
    "A_ub = np.diag([1. - mu] * n + [mu - 1.] * n)\n",
    "b_ub = np.zeros(2 * n)\n",
    "A_eq = np.eye(2 * n)\n",
    "b_eq = np.ones(2 * n)\n",
    "\n",
    "# 最大化したいので負をとる\n",
    "C *= -1\n",
    "A_ub *= -1\n",
    "b_ub *= -1\n",
    "A_eq *= -1\n",
    "b_eq *= -1\n",
    "\n",
    "linprog(C, A_ub=A_ub, b_ub=b_ub, A_eq=A_eq, b_eq=b_eq)"
   ]
  },
  {
   "cell_type": "markdown",
   "metadata": {},
   "source": [
    "nanだと…解集合が空であることを示したいからこれでいいのか…"
   ]
  },
  {
   "cell_type": "markdown",
   "metadata": {},
   "source": [
    "定理4.3（OMPの最適解保証）\n",
    "--\n",
    "線形連立方程式$\\mathbf{Ax}=\\mathbf{b}$（$n<m$である$\\mathbf{A}\\in\\mathbb{R}^{n×m}$はフルランクの行列）に対して，もし，解$\\mathbf{x}$が存在して，\n",
    "$$\\|\\mathbf{x}\\|_0<\\frac{1}{2}\\left(1+\\frac{1}{\\mu(\\mathbf{A})}\\right)$$\n",
    "を満たせば，しきい値パラメータ$\\epsilon_0=0$で実行されるOMP(OGA)は最適解を与える．"
   ]
  },
  {
   "cell_type": "markdown",
   "metadata": {},
   "source": [
    "定理4.4（しきい値アルゴリズムの最適解保証）\n",
    "--\n",
    "線形連立方程式$\\mathbf{Ax}=\\mathbf{b}$（$n<m$である$\\mathbf{A}\\in\\mathbb{R}^{n×m}$はフルランクの行列）に対して，解$\\mathbf{x}$が存在して<br>\n",
    "（その非ゼロ要素の最小値は$|x_{min}|$，最大値は$|x_{max}|$とする）\n",
    "$$\\|\\mathbf{x}\\|_0<\\frac{1}{2}\\left(1+\\frac{1}{\\mu(\\mathbf{A})}\\frac{|x_{min}|}{|x_{max}|}\\right)$$\n",
    "を満たせば，しきい値パラメータ$\\epsilon_0=0$で実行されるしきい値アルゴリズムは最適解を与える．"
   ]
  },
  {
   "cell_type": "markdown",
   "metadata": {},
   "source": [
    "定理4.5（基底追跡の最適解保証）\n",
    "--\n",
    "線形連立方程式$\\mathbf{Ax}=\\mathbf{b}$（$n<m$である$\\mathbf{A}\\in\\mathbb{R}^{n×m}$はフルランクの行列）に対して，解$\\mathbf{x}$が存在して，\n",
    "$$\\|\\mathbf{x}\\|_0<\\frac{1}{2}\\left(1+\\frac{1}{\\mu(\\mathbf{A})}\\right)$$\n",
    "を満たせば，得られた解は$(P_1)$の一意解であり，$(P_0)$の一意解でもある．"
   ]
  },
  {
   "cell_type": "markdown",
   "metadata": {},
   "source": [
    "驚くべきことに，OMPの上界は基底追跡の成功も保証する．ただし，これはいつでも二つのアルゴリズムは似たように振る舞うということではない．実際，二つの直交行列の場合について，これらの二つのアルゴリズムの違いをすでに議論している．一般の場合のこれらのアルゴリズムについての定理は，最悪の場合の振る舞いは，二つのアルゴリズムは同じであり，これらの上界はタイトであることを意味している．"
   ]
  },
  {
   "cell_type": "markdown",
   "metadata": {},
   "source": [
    "しかし，上記の結果はかなり弱いものである．$n$個の要素のうち非ゼロ要素が$\\sqrt{n}$個よりも少ないという，かなりスパースなときにしか成功しない．それほどスパースな状態になる問題はほとんどない．"
   ]
  },
  {
   "cell_type": "markdown",
   "metadata": {},
   "source": [
    "Troppの厳密性復元条件\n",
    "==\n",
    "定義4.1（厳密性復元条件）\n",
    "--\n",
    "サポート$S$と行列$\\mathbf{A}$が与えられたとき，厳密復元条件（exact recovery condtion; ERC）は次式で与えられる．\n",
    "$$ERC(A,S):max_{i\\notin S}\\|\\mathbf{A}_{S}^{+}\\mathbf{a}_i\\|_{1}<1$$\n",
    "\n",
    "$\\mathbf{A}_{S}^{+}$は$\\mathbf{A}_{S}$の疑似逆行列"
   ]
  },
  {
   "cell_type": "markdown",
   "metadata": {},
   "source": [
    "定理4.6（ERCと追跡アルゴリズムの性能）\n",
    "--\n",
    "線形連立方程式$\\mathbf{Ax}=\\mathbf{b}$の解である，サポート$S$を持つスパースなベクトル$\\mathbf{x}$に対して，もしERCが満たされれば，OMPとBPは$\\mathbf{x}$を求めることに成功する．"
   ]
  },
  {
   "cell_type": "markdown",
   "metadata": {},
   "source": [
    "この条件は，相互コヒーレンスを用いた追跡アルゴリズムの成功条件よりも強いが，構成的ではない．つまり，サポートが与えられなければ確認することはできないのである．"
   ]
  },
  {
   "cell_type": "markdown",
   "metadata": {},
   "source": [
    "（参考）Python SciPy: 線形計画問題を解く\n",
    "--\n",
    "http://org-technology.com/posts/scipy-linear-programming.html\n",
    "\n",
    "SciPy では関数 linprog で線形計画問題を解くことができます。"
   ]
  },
  {
   "cell_type": "code",
   "execution_count": 56,
   "metadata": {
    "collapsed": false
   },
   "outputs": [
    {
     "data": {
      "text/plain": [
       "     fun: -10.0\n",
       " message: 'Optimization terminated successfully.'\n",
       "     nit: 3\n",
       "   slack: array([ 0.,  0.,  1.])\n",
       "  status: 0\n",
       " success: True\n",
       "       x: array([ 2.,  2.])"
      ]
     },
     "execution_count": 56,
     "metadata": {},
     "output_type": "execute_result"
    }
   ],
   "source": [
    "from scipy.optimize import linprog\n",
    "\n",
    "c = [-3, -2]\n",
    "A = [[2, 1], [1, 1]]\n",
    "b = [6, 4]\n",
    "x0_bounds = (None, None)\n",
    "x1_bounds = (1, None)\n",
    "res = linprog(c, A_ub=A, b_ub=b, bounds=(x0_bounds, x1_bounds))\n",
    "\n",
    "res"
   ]
  },
  {
   "cell_type": "code",
   "execution_count": 57,
   "metadata": {
    "collapsed": false
   },
   "outputs": [
    {
     "data": {
      "text/plain": [
       "<matplotlib.legend.Legend at 0x114c78310>"
      ]
     },
     "execution_count": 57,
     "metadata": {},
     "output_type": "execute_result"
    },
    {
     "data": {
      "image/png": "[encoded data removed]",
      "text/plain": [
       "<matplotlib.figure.Figure at 0x114b5bad0>"
      ]
     },
     "metadata": {},
     "output_type": "display_data"
    }
   ],
   "source": [
    "x = np.linspace(0, 4, 100)\n",
    "\n",
    "y0 = (-3*x+10)/2\n",
    "y1 = -2*x+6\n",
    "y2 = -x+4\n",
    "y3 = np.ones_like(x)\n",
    "\n",
    "y4 = np.minimum(y1, y2)\n",
    "\n",
    "plt.figure()\n",
    "plt.plot(x, y0, \"--\", label=\"objective function\")\n",
    "plt.plot(x, y1, label=\"2x+y<=6\")\n",
    "plt.plot(x, y2, label=\"x+y<=4\")\n",
    "plt.plot(x, y3, label=\"y>=1\")\n",
    "plt.plot(res.x[0], res.x[1], \"o\")\n",
    "plt.fill_between(x, y3, y4, where=y4>y3, facecolor='yellow', alpha=0.3)\n",
    "plt.ylim(0, 5)\n",
    "plt.legend(loc=0)"
   ]
  },
  {
   "cell_type": "markdown",
   "metadata": {},
   "source": [
    "PuLP で解くと以下のようになります。"
   ]
  },
  {
   "cell_type": "code",
   "execution_count": 58,
   "metadata": {
    "collapsed": false
   },
   "outputs": [
    {
     "data": {
      "text/plain": [
       "[2.0, 2.0]"
      ]
     },
     "execution_count": 58,
     "metadata": {},
     "output_type": "execute_result"
    }
   ],
   "source": [
    "import pulp\n",
    "\n",
    "x = pulp.LpVariable(\"x\")\n",
    "y = pulp.LpVariable(\"y\")\n",
    "problem = pulp.LpProblem(\"A simple maximization objective\", pulp.LpMaximize)\n",
    "problem += 3*x + 2*y, \"The objective function\"\n",
    "problem += 2*x + y <= 6, \"1st constraint\"\n",
    "problem += x + y <= 4, \"2nd constraint\"\n",
    "problem += y >= 1, \"3rd constraint\"\n",
    "problem.solve()\n",
    "\n",
    "[x.value(), y.value()]"
   ]
  },
  {
   "cell_type": "code",
   "execution_count": null,
   "metadata": {
    "collapsed": true
   },
   "outputs": [],
   "source": []
  }
 ],
 "metadata": {
  "kernelspec": {
   "display_name": "Python 3",
   "language": "python",
   "name": "python3"
  },
  "language_info": {
   "codemirror_mode": {
    "name": "ipython",
    "version": 3
   },
   "file_extension": ".py",
   "mimetype": "text/x-python",
   "name": "python",
   "nbconvert_exporter": "python",
   "pygments_lexer": "ipython3",
   "version": "3.5.2"
  }
 },
 "nbformat": 4,
 "nbformat_minor": 0
}
