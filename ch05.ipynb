{
 "cells": [
  {
   "cell_type": "markdown",
   "metadata": {},
   "source": [
    "第5章 厳密解から近似解へ\n",
    "=="
   ]
  },
  {
   "cell_type": "markdown",
   "metadata": {
    "collapsed": true
   },
   "source": [
    "$\\mathbf{Ax}$と$\\mathbf{b}$に少し差があっても許容するように$(P^{0})$ を考え直すことにする。ここでは許容誤差$\\epsilon > 0$を用いて，問題$(P_{0})$の誤差を許容する変形版を次のように定義する．\n",
    "\n",
    "$$ (P_{0}^{\\epsilon}): \\, \\min_{x} \\|x\\|_{0} \\text{ subject to } \\|\\mathbf{b} - \\mathbf{Ax}\\|_{2}^{2} \\leq \\epsilon$$"
   ]
  },
  {
   "cell_type": "code",
   "execution_count": 237,
   "metadata": {
    "collapsed": true
   },
   "outputs": [],
   "source": [
    "from matplotlib.font_manager import FontProperties\n",
    "\n",
    "font_path = u'/Library/Fonts/ヒラギノ角ゴ Pro W3.otf'\n",
    "font_prop = FontProperties(fname=font_path)\n",
    "plt.rc('font',family=font_prop.get_name())"
   ]
  },
  {
   "cell_type": "markdown",
   "metadata": {},
   "source": [
    "OMPによる$(P_{0}^{\\epsilon})$の解法\n",
    "--\n",
    "停止条件を$\\epsilon_{0}=\\epsilon$とすれば，このアルゴリズムは制約条件$\\|\\mathbf{b}-\\mathbf{Ax}\\|_{2}\\leq\\epsilon$が満たされるまで解ベクトルの非ゼロ要素を積算することになる．修正はこのように軽微で済むので，OMPを実装し実行することは簡単で，広く使われている．\n",
    "\n",
    "* $(P_{0})$の場合と特にアルゴリズムの変更はない"
   ]
  },
  {
   "cell_type": "code",
   "execution_count": 1,
   "metadata": {
    "collapsed": true
   },
   "outputs": [],
   "source": [
    "# 貪欲アルゴリズム\n",
    "class Greedy(object):\n",
    "    def __init__(self, A, b, eps=1e-4):\n",
    "        \"\"\"\n",
    "        A m×n行列\n",
    "        b n要素の観測\n",
    "        eps 誤差の閾値\n",
    "        \"\"\"\n",
    "        self.A = A\n",
    "        self.b = b\n",
    "        self.eps = eps\n",
    "\n",
    "    def OMP(self):\n",
    "        \"\"\" 直交マッチング追跡(orthogonal matching pursuit; OMP) \"\"\"\n",
    "        # 初期化\n",
    "        x = np.zeros(self.A.shape[1])\n",
    "        S = np.zeros(self.A.shape[1], dtype=np.uint8)\n",
    "        r = self.b.copy()\n",
    "        rr = np.dot(r, r)\n",
    "        for _ in xrange(self.A.shape[1]):\n",
    "            # 誤差計算\n",
    "            err = rr - np.dot(self.A[:, S == 0].T, r) ** 2\n",
    "            \n",
    "            # サポート更新\n",
    "            ndx = np.where(S == 0)[0]\n",
    "            S[ndx[err.argmin()]] = 1\n",
    "    \n",
    "            # 解更新\n",
    "            As = self.A[:, S == 1]\n",
    "            pinv = np.linalg.pinv(np.dot(As, As.T))\n",
    "            x[S == 1] = np.dot(As.T, np.dot(pinv, self.b))\n",
    "        \n",
    "            # 残差更新\n",
    "            r = self.b - np.dot(self.A, x)\n",
    "            rr = np.dot(r, r)\n",
    "            if rr < self.eps:\n",
    "                break\n",
    "                \n",
    "        return x, S\n",
    "    \n",
    "    def MP(self):\n",
    "        \"\"\" マッチング追跡(matching pursuit; MP) \"\"\"\n",
    "        # 初期化\n",
    "        x = np.zeros(self.A.shape[1])\n",
    "        S = np.zeros(self.A.shape[1], dtype=np.uint8)\n",
    "        r = self.b.copy()\n",
    "        rr = np.dot(r, r)\n",
    "        for _ in xrange(1000):\n",
    "            # 誤差計算\n",
    "            err = rr - np.dot(self.A.T, r) ** 2\n",
    "\n",
    "            # サポート更新\n",
    "            j = err.argmin()\n",
    "            S[j] = 1\n",
    "    \n",
    "            # 解更新\n",
    "            a = self.A[:, j]\n",
    "            z = np.dot(a, r)\n",
    "            x[j] += z\n",
    "    \n",
    "            # 残差更新\n",
    "            r -= z * a\n",
    "            rr = np.dot(r, r)\n",
    "            if rr < self.eps:\n",
    "                break\n",
    "                \n",
    "        return x, S\n",
    "\n",
    "    def WMP(self, t=0.5):\n",
    "        \"\"\" \n",
    "        弱マッチング追跡(weak matching pursuit; WMP)     \n",
    "        t スカラー(0<t<1)\n",
    "        \"\"\"\n",
    "        # 初期化\n",
    "        x = np.zeros(self.A.shape[1])\n",
    "        S = np.zeros(self.A.shape[1], dtype=np.uint8)\n",
    "        r = self.b.copy()\n",
    "        rr = np.dot(r, r)\n",
    "        for _ in xrange(1000):\n",
    "            # 誤差計算\n",
    "            max_zz = 0\n",
    "            j0 = 0\n",
    "            for j in xrange(self.A.shape[1]):\n",
    "                a = self.A[:, j]\n",
    "                z = np.dot(a, r)\n",
    "                if np.abs(z) > t * np.sqrt(rr):\n",
    "                    j0 = j\n",
    "                    break\n",
    "                if z ** 2 > max_zz:\n",
    "                    max_zz = z ** 2\n",
    "                    j0 = j \n",
    "    \n",
    "            # サポート更新\n",
    "            S[j0] = 1\n",
    "    \n",
    "            # 解更新\n",
    "            a = self.A[:, j0]\n",
    "            z = np.dot(a, r)\n",
    "            x[j0] += z\n",
    "    \n",
    "            # 残差更新\n",
    "            r -= z * a\n",
    "            rr = np.dot(r, r)\n",
    "            if rr < self.eps:\n",
    "                break\n",
    "                \n",
    "        return x, S\n",
    "\n",
    "    def Threshold(self, k):\n",
    "        \"\"\" \n",
    "        閾値アルゴリズム(thresholding algorithm) \n",
    "        k 列の個数\n",
    "        \"\"\"\n",
    "        # 初期化\n",
    "        x = np.zeros(self.A.shape[1])\n",
    "        S = np.zeros(self.A.shape[1], dtype=np.uint8)\n",
    "        r = self.b.copy()\n",
    "        rr = np.dot(r, r)\n",
    "\n",
    "        # 誤差計算\n",
    "        err = rr - np.dot(self.A.T, r) ** 2\n",
    "\n",
    "        # サポートの更新\n",
    "        ndx = np.argsort(err)[:k]\n",
    "        S[ndx] = 1\n",
    "        \n",
    "        # 解更新\n",
    "        As = self.A[:, S == 1]\n",
    "        pinv = np.linalg.pinv(np.dot(As, As.T))\n",
    "        x[S == 1] = np.dot(As.T, np.dot(pinv, self.b))\n",
    "        \n",
    "        return x, S"
   ]
  },
  {
   "cell_type": "markdown",
   "metadata": {
    "collapsed": true
   },
   "source": [
    "基底追跡ノイズ除去（basis pursuit denoising; BPDN）\n",
    "--\n",
    "$$ (P_{1}^{\\epsilon}): \\, \\min_{x} \\|x\\|_{1} \\text{ subject to } \\|\\mathbf{b}-\\mathbf{Ax}\\|_{2}$$\n",
    "\n",
    "適切なラグランジュ乗数$\\lambda$に対して，$(P_{1}^{\\epsilon})$の解は，以下の制約なし最適化問題の解に一致する．\n",
    "\n",
    "$$ (Q_{1}^{\\lambda}): \\, \\min_{x} \\lambda \\|x\\|_1 + \\frac{1}{2} \\|\\mathbf{b} - \\mathbf{Ax}\\|^{2}_{2}$$"
   ]
  },
  {
   "cell_type": "markdown",
   "metadata": {},
   "source": [
    "反復重み付け最小二乗法（IRLS）\n",
    "--\n",
    "* $(Q_{1}^{\\lambda})$を解く単純な方法\n",
    "\n",
    "$\\mathbf{X} = \\rm{diag}(|\\mathbf{x}|)$とすると，$\\|\\mathbf{x}\\|_{1} = \\mathbf{x}^{T}\\mathbf{X}^{-1}\\mathbf{x}$である．つまり$\\ell_{1}$ノルムは（重み付き）2乗$\\ell_{2}$ノルムと見なすことができる．現在の近似界を$\\mathbf{x}_{k_1}$が与えられたら，$\\mathbf{X}_{k-1}=\\rm{diag}(|\\mathbf{x}_{k-1}|)$とおいて以下の問題を解く．\n",
    "\n",
    "$$ (M_{k}):\\, \\min_{x} \\lambda \\mathbf{x}^{T}\\mathbf{X}^{-1}_{k-1}\\mathbf{x} + \\frac{1}{2}\\|\\mathbf{b}-\\mathbf{Ax}\\|_{2}^{2}$$\n",
    "\n",
    "* 思いつき：$\\|\\mathbf{x}\\|_{0} = \\mathbf{x}^{T}\\mathbf{X}^{-2}\\mathbf{x}$となる？"
   ]
  },
  {
   "cell_type": "markdown",
   "metadata": {},
   "source": [
    "IRLSの具体例\n",
    "--"
   ]
  },
  {
   "cell_type": "code",
   "execution_count": 2,
   "metadata": {
    "collapsed": true
   },
   "outputs": [],
   "source": [
    "# 数値例生成\n",
    "class NumericalExample2(object):\n",
    "    def __init__(self, n=100, m=200, k=4, sig=0.1):\n",
    "        \"\"\" \n",
    "        n 行数\n",
    "        m 列数\n",
    "        k 非ゼロの要素数 \n",
    "        A 冗長なシステム行列 mxn\n",
    "        x スパースな解 m\n",
    "        b ノイズを含む観測 n\n",
    "        S サポート m\n",
    "        \"\"\"\n",
    "        # 冗長なシステム行列A\n",
    "        self.A = (np.random.rand(n, m) - 0.5) * 2\n",
    "        self.A = np.dot(self.A, np.diag(1. / np.sqrt(np.diag(np.dot(self.A.T, self.A)))))    \n",
    "        \n",
    "        #　スパースなx\n",
    "        self.x = np.zeros(m)\n",
    "        ndx = np.random.randint(0, m - 1, k)\n",
    "        for i in ndx:\n",
    "            self.x[i] = np.random.rand() + 1.\n",
    "            if np.random.rand() < 0.5:\n",
    "                self.x[i] *= -1.\n",
    "\n",
    "        # 雑音を含む観測n\n",
    "        self.b = np.dot(self.A, self.x) + randn(n) * sig\n",
    "        \n",
    "        # サポートS\n",
    "        self.S = np.zeros(m, dtype=np.uint8)\n",
    "        self.S[ndx] = 1\n",
    "        \n",
    "        # 雑音の標準偏差\n",
    "        self.sig = sig"
   ]
  },
  {
   "cell_type": "code",
   "execution_count": 184,
   "metadata": {
    "collapsed": false
   },
   "outputs": [],
   "source": [
    "from scipy.optimize import minimize\n",
    "\n",
    "# 基底追跡ノイズ除去（basis pursuit denoising; BPDN）\n",
    "class BPDN(object):\n",
    "    def __init__(self, A, b, niter=1000):\n",
    "        \"\"\"\n",
    "        A m×n行列\n",
    "        b n要素の観測\n",
    "        sig 雑音の標準偏差\n",
    "        eps 誤差の閾値\n",
    "        iter 反復回数\n",
    "        \"\"\"\n",
    "        self.A = A\n",
    "        self.b = b\n",
    "        self.eps = 1e-3\n",
    "        self.niter = niter\n",
    "                \n",
    "    def IRLS(self, lam=0.05):    \n",
    "        \"\"\" 反復重み付け最小二乗(iterative-reweighted-least-squares; IRLS) \"\"\"\n",
    "\n",
    "        def f(x, *args):\n",
    "            \"\"\" コスト関数 \"\"\"\n",
    "            lam, w, A, b = args\n",
    "            reg = lam * np.dot(x.T, x / w) \n",
    "            err = b - np.dot(A, x)\n",
    "            err2 = np.dot(err.T, err)\n",
    "            return reg + 0.5 * err2\n",
    "\n",
    "        # 初期化\n",
    "        x = np.ones(self.A.shape[1])\n",
    "        w = np.ones(self.A.shape[1])\n",
    "        xs = []\n",
    "        for i in xrange(self.niter):\n",
    "            x_prev = x.copy()\n",
    "            res = minimize(f, x, args=(lam, w, self.A, self.b))\n",
    "            x = res.x\n",
    "            xs.append(x)\n",
    "            w = np.abs(x) + self.eps\n",
    "            update = np.sum(np.abs(x - x_prev))\n",
    "            if update < 1e-6:\n",
    "                break\n",
    "        \n",
    "        # サポート\n",
    "        S = np.zeros(self.A.shape[1], dtype=np.uint8)\n",
    "        S[np.abs(x) > 0] = 1\n",
    "\n",
    "        return x, S, xs"
   ]
  },
  {
   "cell_type": "code",
   "execution_count": 123,
   "metadata": {
    "collapsed": true
   },
   "outputs": [],
   "source": [
    "# 指標\n",
    "def l2_err(x, x2):\n",
    "    \"\"\" 正規化L2誤差 \"\"\"\n",
    "    return np.dot(x - x2, x - x2) / np.dot(x, x)\n",
    "\n",
    "def dist_S(S, S2):\n",
    "    \"\"\" サポート間距離 \"\"\"\n",
    "    val = max(np.sum(S), np.sum(S2))\n",
    "    return float(val - np.sum(S * S2)) / val\n",
    "\n",
    "def residual(A, x, b, sig):\n",
    "    \"\"\" 残差とノイズパワーの比 \"\"\"\n",
    "    r = np.dot(A, x) - b \n",
    "    power = len(b) * (sig ** 2)\n",
    "    return np.abs(np.log(np.dot(r, r) / power))"
   ]
  },
  {
   "cell_type": "markdown",
   "metadata": {},
   "source": [
    "$\\lambda$の値の決め方\n",
    "--\n",
    "* $(P_{0}^{\\epsilon})$，$(P_{1}^{\\epsilon})$では$\\epsilon=\\sqrt{n}\\sigma$とすれば良い\n",
    "* $(Q^{1}_{\\lambda})$では$\\lambda$の値が直感的に求まらない．\n",
    "* 経験的には、$\\sigma$と非ゼロ要素の標準偏差の比に近い値を$\\lambda$とする．ここでは非ゼロ要素の標準偏差はおおよそ2なので，$\\sigma/2=0.05$付近の値を$\\lambda$とする．"
   ]
  },
  {
   "cell_type": "markdown",
   "metadata": {},
   "source": [
    "$\\lambda$に対する正規化$\\ell_{2}$誤差\n",
    "--"
   ]
  },
  {
   "cell_type": "code",
   "execution_count": 188,
   "metadata": {
    "collapsed": false
   },
   "outputs": [
    {
     "name": "stdout",
     "output_type": "stream",
     "text": [
      "0 0.0001 0.155651702041 11.64517735\n",
      "1 0.000111033631817 0.155510116674 11.4360273207\n",
      "2 0.000123284673944 0.155398168673 11.2212351385\n",
      "3 0.000136887450954 0.154923245527 11.0171652167\n",
      "4 0.000151991108295 0.154820420521 10.8126854896\n",
      "5 0.000168761247579 0.154500307322 10.6041496149\n",
      "6 0.000187381742286 0.154273618626 10.3949626399\n",
      "7 0.000208056753822 0.154067757176 10.1886478285\n",
      "8 0.000231012970008 0.153765268098 9.98372745626\n",
      "9 0.000256502090568 0.153502929372 9.77297257562\n",
      "10 0.000284803586844 0.153215966973 9.56792397412\n",
      "11 0.000316227766017 0.152900619973 9.3599734787\n",
      "12 0.000351119173422 0.152543467346 9.15259929784\n",
      "13 0.000389860370255 0.152157496273 8.94391124754\n",
      "14 0.000432876128108 0.151764460567 8.74046701986\n",
      "15 0.000480638086306 0.151262495585 8.53262140726\n",
      "16 0.000533669923121 0.150766261295 8.32613285135\n",
      "17 0.000592553097555 0.150204861788 8.12168637525\n",
      "18 0.000657933224658 0.149603993848 7.91634092167\n",
      "19 0.000730527154266 0.148916504857 7.71095002974\n",
      "20 0.00081113083079 0.148182578644 7.5075251295\n",
      "21 0.000900628020211 0.147378177202 7.30454423906\n",
      "22 0.001 0.14641781588 7.10164453521\n",
      "23 0.00111033631817 0.145443861533 6.90042082815\n",
      "24 0.00123284673944 0.1443500542 6.70044362852\n",
      "25 0.00136887450954 0.143151146623 6.50170607611\n",
      "26 0.00151991108295 0.141839960592 6.30426793908\n",
      "27 0.00168761247579 0.140414846475 6.10839745357\n",
      "28 0.00187381742286 0.138888346638 5.91395950791\n",
      "29 0.00208056753822 0.137173648397 5.72114538043\n",
      "30 0.00231012970008 0.135292106955 5.52963541466\n",
      "31 0.00256502090568 0.133162618995 5.33941707973\n",
      "32 0.00284803586844 0.130740618299 5.15037467145\n",
      "33 0.00316227766017 0.128031143677 4.96205068332\n",
      "34 0.00351119173422 0.124974714134 4.77425348215\n",
      "35 0.00389860370255 0.121566278211 4.58683020868\n",
      "36 0.00432876128108 0.117791750783 4.39983112753\n",
      "37 0.00480638086306 0.113661545628 4.21304108694\n",
      "38 0.00533669923121 0.109251966897 4.02661467417\n",
      "39 0.00592553097555 0.104606940305 3.84083357755\n",
      "40 0.00657933224658 0.0997951904163 3.6564418809\n",
      "41 0.00730527154266 0.0948732736159 3.47450632456\n",
      "42 0.0081113083079 0.0898977534154 3.29563276178\n",
      "43 0.00900628020211 0.0849172097492 3.11989921178\n",
      "44 0.01 0.0799998821448 2.94728217783\n",
      "45 0.0111033631817 0.0751788767489 2.77785798093\n",
      "46 0.0123284673944 0.0704693700212 2.6108739074\n",
      "47 0.0136887450954 0.0658884301464 2.44474894889\n",
      "48 0.0151991108295 0.0615302467074 2.280300485\n",
      "49 0.0168761247579 0.0574199094916 2.1208933095\n",
      "50 0.0187381742286 0.0534934384718 1.96969773739\n",
      "51 0.0208056753822 0.0496894009626 1.8261803403\n",
      "52 0.0231012970008 0.0460545571063 1.68821299195\n",
      "53 0.0256502090568 0.0426663118449 1.55502188773\n",
      "54 0.0284803586844 0.0395834947462 1.4266669131\n",
      "55 0.0316227766017 0.0368544700642 1.30491917966\n",
      "56 0.0351119173422 0.0344310800957 1.19284209448\n",
      "57 0.0389860370255 0.0321702501017 1.08922633275\n",
      "58 0.0432876128108 0.0300023522922 0.99110730113\n",
      "59 0.0480638086306 0.0279223089893 0.894764117069\n",
      "60 0.0533669923121 0.026008945517 0.797808616427\n",
      "61 0.0592553097555 0.0243914000345 0.700261295636\n",
      "62 0.0657933224658 0.0232045832223 0.604066987171\n",
      "63 0.0730527154266 0.0225323365978 0.511970327552\n",
      "64 0.081113083079 0.0224197140395 0.425625827282\n",
      "65 0.0900628020211 0.0229271380187 0.344824349049\n",
      "66 0.1 0.0241211370088 0.267983046286\n",
      "67 0.111033631817 0.0261120189929 0.192632478588\n",
      "68 0.123284673944 0.0291020937195 0.117663598196\n",
      "69 0.136887450954 0.0333651378755 0.04360763684\n",
      "70 0.151991108295 0.0391734528537 0.0310871603311\n",
      "71 0.168761247579 0.0468519331964 0.10812699036\n",
      "72 0.187381742286 0.0566811138548 0.189951824849\n",
      "73 0.208056753822 0.0689470763398 0.279669856887\n",
      "74 0.231012970008 0.0841160231809 0.378907371144\n",
      "75 0.256502090568 0.102823336654 0.488335842448\n",
      "76 0.284803586844 0.125866779584 0.608107931462\n",
      "77 0.316227766017 0.15424029759 0.738057509919\n",
      "78 0.351119173422 0.189166027653 0.87774949128\n",
      "79 0.389860370255 0.232138705219 1.02653082162\n",
      "80 0.432876128108 0.28496853009 1.18355613841\n",
      "81 0.480638086306 0.349802920729 1.34777761586\n",
      "82 0.533669923121 0.428834234956 1.51743090446\n",
      "83 0.592553097555 0.521123281738 1.68571298284\n",
      "84 0.657933224658 0.613930095381 1.83360365984\n",
      "85 0.730527154266 0.692740770276 1.95089252911\n",
      "86 0.81113083079 0.774576411469 2.06251239279\n",
      "87 0.900628020211 0.843922853901 2.15422327842\n",
      "88 1.0 0.911673652069 2.23871240281\n",
      "89 1.11033631817 0.980111150659 2.31510069038\n",
      "90 1.23284673944 0.994817406957 2.33066554179\n",
      "91 1.36887450954 0.996969500324 2.33308169046\n",
      "92 1.51991108295 0.997863814002 2.33418131616\n",
      "93 1.68761247579 0.998373305684 2.33486530071\n",
      "94 1.87381742286 0.998707390757 2.33535055783\n",
      "95 2.08056753822 0.998944636894 2.3357197616\n",
      "96 2.31012970008 0.999122183591 2.33601300756\n",
      "97 2.56502090568 0.999259652268 2.33625224429\n",
      "98 2.84803586844 0.999368919937 2.33645126537\n",
      "99 3.16227766017 0.999457653836 2.33661934159\n"
     ]
    }
   ],
   "source": [
    "ne2 = NumericalExample2()\n",
    "\n",
    "bpdn = BPDN(ne2.A, ne2.b, niter=100)\n",
    "lams = np.logspace(-4, 0.5, 100)\n",
    "errs = []\n",
    "ress = []\n",
    "x_lams = []\n",
    "for i, lam in enumerate(lams):\n",
    "    x_IRLS, S_IRLS, xs = bpdn.IRLS(lam=lam)\n",
    "    err = l2_err(ne2.x, x_IRLS)\n",
    "    res = residual(ne2.A, x_IRLS, ne2.b, ne2.sig)\n",
    "    print i, lam, err, res\n",
    "    errs.append(err)\n",
    "    ress.append(res)\n",
    "    x_lams.append(x_IRLS)\n",
    "x_lams = np.array(x_lams)"
   ]
  },
  {
   "cell_type": "markdown",
   "metadata": {},
   "source": [
    "破線は$\\left|\\log(\\|\\mathbf{A\\hat{x}_{\\lambda}}-\\mathbf{b}\\|)/(n\\sigma^{2})\\right|$の値を示しており，$\\lambda$がどの値のときに残差$\\|\\mathbf{A\\hat{x}_{\\lambda}}-\\mathbf{b}\\|$がノイズパワー$n\\sigma^{2}$と同程度になるのかを表している．これは$\\lambda$の値を決める別の経験則であり，図からわかるように，このようにして$\\lambda$を決めると最適解にかなり近づく．"
   ]
  },
  {
   "cell_type": "code",
   "execution_count": 270,
   "metadata": {
    "collapsed": false
   },
   "outputs": [
    {
     "data": {
      "image/png": "[encoded data removed]",
      "text/plain": [
       "<matplotlib.figure.Figure at 0x11b438850>"
      ]
     },
     "metadata": {},
     "output_type": "display_data"
    }
   ],
   "source": [
    "plt.semilogx(lams, errs)\n",
    "plt.semilogx(lams, ress, '--k')\n",
    "plt.xlim(lams[0], lams[-1])\n",
    "plt.ylim(0, 1)\n",
    "plt.grid(True, which=\"both\")\n",
    "plt.ylabel(u'正規化'+'$\\ell_{2}$'+u'誤差')\n",
    "plt.xlabel('$\\lambda$')\n",
    "plt.savefig('lambda.png', dpi=220)"
   ]
  },
  {
   "cell_type": "markdown",
   "metadata": {},
   "source": [
    "最も良い$\\lambda$の値を用いた場合と，それよりも大きい値と小さい値を用いた場合の，三つの解\n",
    "--"
   ]
  },
  {
   "cell_type": "code",
   "execution_count": 272,
   "metadata": {
    "collapsed": false
   },
   "outputs": [
    {
     "data": {
      "image/png": "[encoded data removed]",
      "text/plain": [
       "<matplotlib.figure.Figure at 0x11b1bd150>"
      ]
     },
     "metadata": {},
     "output_type": "display_data"
    }
   ],
   "source": [
    "fig, ax = plt.subplots(3, 1, figsize=(7, 7))\n",
    "ax = ax.flatten()\n",
    "ndx = np.where(ne2.x != 0)[0]\n",
    "for i, j in enumerate([42, 64, 86]):\n",
    "    ax[i].plot(x_lams[j])\n",
    "    ax[i].plot(ndx, ne2.x[ndx], 'ro')\n",
    "    ax[i].set_yticks([-2, 0, 2])\n",
    "    ax[i].text(90, 0.4, '$\\lambda=${:.7f}'.format(lams[j]), fontsize=12)\n",
    "plt.tight_layout()\n",
    "plt.savefig('IRLS.png', dpi=220)"
   ]
  },
  {
   "cell_type": "markdown",
   "metadata": {},
   "source": [
    "全ての$\\lambda$に対するすべてのIRLSの解\n",
    "--\n",
    "各曲線は，$\\lambda$の変化に伴って各要素の値が変化する経路を表している．破線は各$\\mathbf{x}_{0}$の要素を表している．"
   ]
  },
  {
   "cell_type": "code",
   "execution_count": 273,
   "metadata": {
    "collapsed": false
   },
   "outputs": [
    {
     "data": {
      "image/png": "[encoded data removed]",
      "text/plain": [
       "<matplotlib.figure.Figure at 0x11ad2a110>"
      ]
     },
     "metadata": {},
     "output_type": "display_data"
    }
   ],
   "source": [
    "for pix in x_lams.T:\n",
    "    plt.semilogx(lams, pix)\n",
    "plt.xlim(lams[0], lams[-1])\n",
    "plt.ylim(-2, 2)\n",
    "ndx = np.where(ne2.x != 0)[0]\n",
    "for col in ndx:\n",
    "    plt.axhline(ne2.x[col], ls='--', c='k')\n",
    "plt.ylabel(u'解の要素')\n",
    "plt.xlabel('$\\lambda$')\n",
    "plt.savefig('path.png', dpi=220)"
   ]
  },
  {
   "cell_type": "markdown",
   "metadata": {},
   "source": [
    "最適な$\\lambda$を用いた場合の，IRLSの反復回数に対する関数値$\\left(\\lambda\\|\\mathbf{x}\\|_{1}+\\frac{1}{2}\\|\\mathbf{b}-\\mathbf{Ax}\\|_{2}^{2}\\right)$\n",
    "--\n",
    "* IRLSで最小化する重み付きL2正則化項ではなくL1正則化項である点に注意"
   ]
  },
  {
   "cell_type": "code",
   "execution_count": 192,
   "metadata": {
    "collapsed": false
   },
   "outputs": [],
   "source": [
    "x_IRLS, S_IRLS, xs = bpdn.IRLS(lam=lams[64])"
   ]
  },
  {
   "cell_type": "code",
   "execution_count": 274,
   "metadata": {
    "collapsed": false
   },
   "outputs": [
    {
     "data": {
      "image/png": "[encoded data removed]",
      "text/plain": [
       "<matplotlib.figure.Figure at 0x11a4f0ad0>"
      ]
     },
     "metadata": {},
     "output_type": "display_data"
    }
   ],
   "source": [
    "def f(A, b, x, lam):\n",
    "    r = b - np.dot(A, x)\n",
    "    return 0.5 * np.dot(r, r) + lam * np.sum(np.abs(x))\n",
    "\n",
    "fs = []\n",
    "for x in xs:\n",
    "    fs.append(f(ne2.A, ne2.b, x, 0.09))\n",
    "fs = np.array(fs)\n",
    "\n",
    "plt.semilogx(np.arange(1, len(fs)+1), fs)\n",
    "plt.grid(True, which='Both')\n",
    "plt.ylabel(u'間数値')\n",
    "plt.xlabel(u'反復回数')\n",
    "plt.savefig('iteration.png', dpi=220)"
   ]
  },
  {
   "cell_type": "code",
   "execution_count": 266,
   "metadata": {
    "collapsed": false
   },
   "outputs": [
    {
     "name": "stdout",
     "output_type": "stream",
     "text": [
      "0.051167351768 0.00551949196749 0.120416666667 0.0025\n",
      "0.0640001565445 0.00476345995878 0.2185 0.005\n",
      "0.0671305236641 0.00474889757365 0.232886904762 0.00375\n",
      "0.0793078671837 0.00536864537412 0.270148809524 0.00733333333333\n",
      "0.0983675519039 0.0263103933289 0.302224563835 0.0446994949495\n",
      "0.119715835107 0.0515097824601 0.31378019203 0.0825683760684\n",
      "0.165366985408 0.123296570579 0.373638950918 0.144441058941\n",
      "0.188284626782 0.197493867314 0.379683128554 0.188640144578\n",
      "0.236495649375 0.333787973061 0.407877910424 0.291407793595\n",
      "0.258104524942 0.368091867576 0.405970786459 0.305488766136\n",
      "0.310660508455 0.491574651977 0.415806464455 0.376231997578\n",
      "0.364278067416 0.578191067902 0.434394076791 0.403269120865\n",
      "0.394584244196 0.715296426831 0.422475719477 0.447155022931\n",
      "0.397576167411 0.777512809881 0.417872442723 0.471048224587\n",
      "0.454476780249 0.822825541537 0.435594178105 0.474792155299\n"
     ]
    }
   ],
   "source": [
    "from sklearn.linear_model import LassoLars\n",
    "\n",
    "eps = np.sqrt(len(ne.b)) * 0.1\n",
    "\n",
    "err_lars, err_omp, dist_lars, dist_omp = [], [], [], []\n",
    "for k in xrange(1, 16):\n",
    "    err, err2, dist, dist2 = 0, 0, 0, 0\n",
    "    for _ in xrange(200):\n",
    "        ne = NumericalExample2(n=30, m=50, k=k)\n",
    "        \n",
    "        lars = LassoLars(alpha=0.01)\n",
    "        lars.fit(ne.A, ne.b)\n",
    "        x_lars, S_lars = lars.coef_, np.where(lars.coef_ == 0, 0, 1)\n",
    "\n",
    "        greedy = Greedy(ne.A, ne.b, eps=eps)\n",
    "        x_OMP, S_OMP = greedy.OMP()\n",
    "        \n",
    "        err += l2_err(ne.x, x_lars)\n",
    "        err2 += l2_err(ne.x, x_OMP)        \n",
    "        dist += dist_S(ne.S, S_lars)\n",
    "        dist2 += dist_S(ne.S, S_OMP)\n",
    "    \n",
    "    err /= 200\n",
    "    err2 /= 200\n",
    "    dist /= 200\n",
    "    dist2 /= 200\n",
    "    print err, err2, dist, dist2\n",
    "\n",
    "    err_lars.append(err)\n",
    "    err_omp.append(err2)\n",
    "    dist_lars.append(dist)\n",
    "    dist_omp.append(dist2)"
   ]
  },
  {
   "cell_type": "code",
   "execution_count": 267,
   "metadata": {
    "collapsed": false
   },
   "outputs": [
    {
     "data": {
      "image/png": "[encoded data removed]",
      "text/plain": [
       "<matplotlib.figure.Figure at 0x11b54f790>"
      ]
     },
     "metadata": {},
     "output_type": "display_data"
    }
   ],
   "source": [
    "plt.plot(range(1, 16), err_omp, label='OMP')\n",
    "plt.plot(range(1, 16), err_lars, label='LARS')\n",
    "plt.ylabel(u'平均相対$\\ell_2$誤差')\n",
    "plt.xlabel(u'真値の非ゼロ要素の個数')\n",
    "plt.legend(loc='best')\n",
    "plt.xlim(1, 15)\n",
    "plt.savefig('l2_err_OMP_LARS.png', dpi=220)"
   ]
  },
  {
   "cell_type": "code",
   "execution_count": 268,
   "metadata": {
    "collapsed": false
   },
   "outputs": [
    {
     "data": {
      "image/png": "[encoded data removed]",
      "text/plain": [
       "<matplotlib.figure.Figure at 0x11b1e2b10>"
      ]
     },
     "metadata": {},
     "output_type": "display_data"
    }
   ],
   "source": [
    "plt.plot(range(1, 16), dist_omp, label='OMP')\n",
    "plt.plot(range(1, 16), dist_lars, label='LARS')\n",
    "plt.ylabel(u'サポート間距離')\n",
    "plt.xlabel(u'真値の非ゼロ要素の個数')\n",
    "plt.legend(loc='best')\n",
    "plt.xlim(1, 15)\n",
    "plt.savefig('dist_S_OMP_LARS.png', dpi=220)"
   ]
  },
  {
   "cell_type": "code",
   "execution_count": null,
   "metadata": {
    "collapsed": true
   },
   "outputs": [],
   "source": []
  }
 ],
 "metadata": {
  "kernelspec": {
   "display_name": "Python 3",
   "language": "python",
   "name": "python3"
  },
  "language_info": {
   "codemirror_mode": {
    "name": "ipython",
    "version": 3
   },
   "file_extension": ".py",
   "mimetype": "text/x-python",
   "name": "python",
   "nbconvert_exporter": "python",
   "pygments_lexer": "ipython3",
   "version": "3.5.2"
  }
 },
 "nbformat": 4,
 "nbformat_minor": 0
}
