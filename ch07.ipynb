{
 "cells": [
  {
   "cell_type": "markdown",
   "metadata": {},
   "source": [
    "第7章　平均性能の解析に向けて\n",
    "=="
   ]
  },
  {
   "cell_type": "markdown",
   "metadata": {},
   "source": [
    "経験エビデンス（再訪）\n",
    "--"
   ]
  },
  {
   "cell_type": "code",
   "execution_count": 42,
   "metadata": {
    "collapsed": false
   },
   "outputs": [],
   "source": [
    "import matplotlib.pyplot as plt\n",
    "%matplotlib inline\n",
    "from matplotlib.font_manager import FontProperties\n",
    "\n",
    "font_path = u'/Library/Fonts/ヒラギノ角ゴ Pro W3.otf'\n",
    "font_prop = FontProperties(fname=font_path)\n",
    "plt.rc('font',family=font_prop.get_name())"
   ]
  },
  {
   "cell_type": "code",
   "execution_count": 572,
   "metadata": {
    "collapsed": true
   },
   "outputs": [],
   "source": [
    "class NumericalExample3(object):\n",
    "    \"\"\" 数値例 \"\"\"\n",
    "    def __init__(self, n=100, m=200, k=4):\n",
    "        \"\"\" \n",
    "        n 行数\n",
    "        m 列数\n",
    "        k 非ゼロの要素数 \n",
    "        A 冗長なシステム行列 mxn\n",
    "        x スパースな解 m\n",
    "        y ノイズを含まない観測 n\n",
    "        e ノイズ n\n",
    "        b ノイズを含む観測 n\n",
    "        S サポート m\n",
    "        mu Aの相互コヒーレンス\n",
    "        \"\"\"\n",
    "        # 冗長なシステム行列A\n",
    "        self.A = np.random.randn(n, m)\n",
    "        self.A = np.dot(self.A, np.diag(1. / np.sqrt(np.diag(np.dot(self.A.T, self.A)))))    \n",
    "        \n",
    "        #　スパースなx\n",
    "        self.x = np.zeros(m)\n",
    "        ndx = np.random.randint(0, m - 1, k)\n",
    "        self.x[ndx] = np.random.randn(k)\n",
    "        \n",
    "        # 雑音を含まない観測\n",
    "        self.y = np.dot(self.A, self.x)\n",
    "        self.x /= np.sqrt(np.dot(self.y, self.y))\n",
    "        self.y = np.dot(self.A, self.x)\n",
    "        \n",
    "        # 雑音\n",
    "        self.e = np.random.randn(n)\n",
    "        self.e /= np.sqrt(np.dot(self.e, self.e)) * 10\n",
    "\n",
    "        # 雑音を含む観測b\n",
    "        self.b = self.y + self.e\n",
    "        \n",
    "        # サポートS\n",
    "        self.S = np.zeros(m, dtype=np.uint8)\n",
    "        self.S[ndx] = 1\n",
    "        \n",
    "        # Aの相互コヒーレンス\n",
    "        G = np.dot(self.A.T, self.A)\n",
    "        G[range(m), range(m)] = 0.\n",
    "        self.mu = np.abs(G).max()"
   ]
  },
  {
   "cell_type": "code",
   "execution_count": 573,
   "metadata": {
    "collapsed": true
   },
   "outputs": [],
   "source": [
    "from sklearn.linear_model import LinearRegression\n",
    "\n",
    "class Greedy(object):\n",
    "    \"\"\" 貪欲法 \"\"\"\n",
    "    def __init__(self, A, b, eps=1e-4):\n",
    "        \"\"\"\n",
    "        A m×n行列\n",
    "        b n要素の観測\n",
    "        eps 誤差の閾値\n",
    "        \"\"\"\n",
    "        self.A = A\n",
    "        self.b = b\n",
    "        self.eps = eps\n",
    "\n",
    "    def OMP(self):\n",
    "        \"\"\" 直交マッチング追跡(orthogonal matching pursuit; OMP) \"\"\"\n",
    "        # 初期化\n",
    "        x = np.zeros(self.A.shape[1])\n",
    "        S = np.zeros(self.A.shape[1], dtype=np.uint8)\n",
    "        r = self.b.copy()\n",
    "        rr = np.dot(r, r)\n",
    "        for _ in range(self.A.shape[1]):\n",
    "            # 誤差計算\n",
    "            err = rr - np.dot(self.A[:, S == 0].T, r) ** 2\n",
    "            \n",
    "            # サポート更新\n",
    "            ndx = np.where(S == 0)[0]\n",
    "            S[ndx[err.argmin()]] = 1\n",
    "    \n",
    "            # 解更新\n",
    "            As = self.A[:, S == 1]\n",
    "            if False:\n",
    "                lr = LinearRegression(n_jobs=2)\n",
    "                lr.fit(As, self.b)\n",
    "                x[S == 1] = lr.coef_\n",
    "            else:\n",
    "                pinv = np.linalg.pinv(np.dot(As, As.T))\n",
    "                x[S == 1] = np.dot(As.T, np.dot(pinv, self.b))\n",
    "                \n",
    "            # 残差更新\n",
    "            r = self.b - np.dot(self.A, x)\n",
    "            rr = np.dot(r, r)\n",
    "            if rr < self.eps:\n",
    "                break\n",
    "                \n",
    "        return x, S\n",
    "    \n",
    "    def MP(self):\n",
    "        \"\"\" マッチング追跡(matching pursuit; MP) \"\"\"\n",
    "        # 初期化\n",
    "        x = np.zeros(self.A.shape[1])\n",
    "        S = np.zeros(self.A.shape[1], dtype=np.uint8)\n",
    "        r = self.b.copy()\n",
    "        rr = np.dot(r, r)\n",
    "        for _ in range(1000):\n",
    "            # 誤差計算\n",
    "            err = rr - np.dot(self.A.T, r) ** 2\n",
    "\n",
    "            # サポート更新\n",
    "            j = err.argmin()\n",
    "            S[j] = 1\n",
    "    \n",
    "            # 解更新\n",
    "            a = self.A[:, j]\n",
    "            z = np.dot(a, r)\n",
    "            x[j] += z\n",
    "    \n",
    "            # 残差更新\n",
    "            r -= z * a\n",
    "            rr = np.dot(r, r)\n",
    "            if rr < self.eps:\n",
    "                break\n",
    "                \n",
    "        return x, S\n",
    "\n",
    "    def WMP(self, t=0.5):\n",
    "        \"\"\" \n",
    "        弱マッチング追跡(weak matching pursuit; WMP)     \n",
    "        t スカラー(0<t<1)\n",
    "        \"\"\"\n",
    "        # 初期化\n",
    "        x = np.zeros(self.A.shape[1])\n",
    "        S = np.zeros(self.A.shape[1], dtype=np.uint8)\n",
    "        r = self.b.copy()\n",
    "        rr = np.dot(r, r)\n",
    "        for _ in range(1000):\n",
    "            # 誤差計算\n",
    "            max_zz = 0\n",
    "            j0 = 0\n",
    "            for j in range(self.A.shape[1]):\n",
    "                a = self.A[:, j]\n",
    "                z = np.dot(a, r)\n",
    "                if np.abs(z) > t * np.sqrt(rr):\n",
    "                    j0 = j\n",
    "                    break\n",
    "                if z ** 2 > max_zz:\n",
    "                    max_zz = z ** 2\n",
    "                    j0 = j \n",
    "    \n",
    "            # サポート更新\n",
    "            S[j0] = 1\n",
    "    \n",
    "            # 解更新\n",
    "            a = self.A[:, j0]\n",
    "            z = np.dot(a, r)\n",
    "            x[j0] += z\n",
    "    \n",
    "            # 残差更新\n",
    "            r -= z * a\n",
    "            rr = np.dot(r, r)\n",
    "            if rr < self.eps:\n",
    "                break\n",
    "                \n",
    "        return x, S\n",
    "\n",
    "    def Threshold(self, k):\n",
    "        \"\"\" \n",
    "        閾値アルゴリズム(thresholding algorithm) \n",
    "        k 列の個数\n",
    "        \"\"\"\n",
    "        # 初期化\n",
    "        x = np.zeros(self.A.shape[1])\n",
    "        S = np.zeros(self.A.shape[1], dtype=np.uint8)\n",
    "        r = self.b.copy()\n",
    "        rr = np.dot(r, r)\n",
    "\n",
    "        # 誤差計算\n",
    "        err = rr - np.dot(self.A.T, r) ** 2\n",
    "\n",
    "        # サポートの更新\n",
    "        ndx = np.argsort(err)[:k]\n",
    "        S[ndx] = 1\n",
    "        \n",
    "        # 解更新\n",
    "        As = self.A[:, S == 1]\n",
    "        pinv = np.linalg.pinv(np.dot(As, As.T))\n",
    "        x[S == 1] = np.dot(As.T, np.dot(pinv, self.b))\n",
    "        \n",
    "        return x, S"
   ]
  },
  {
   "cell_type": "code",
   "execution_count": 585,
   "metadata": {
    "collapsed": true
   },
   "outputs": [],
   "source": [
    "def get_rel_err(x, x0, e):\n",
    "    \"\"\" 相対誤差 \"\"\"\n",
    "    sse = np.dot(x - x0, x - x0)    \n",
    "    rel_err = sse / np.dot(x0, x0)\n",
    "    rel_err2 = sse / np.dot(e, e)\n",
    "    return rel_err, rel_err2\n",
    "\n",
    "def eval_mean_performance(method, kmin=1, kmax=70, niter=100, noisy=False):\n",
    "    \"\"\" 平均性能の評価 \"\"\"\n",
    "    succs = []\n",
    "    mean_rel_errs = []\n",
    "    mean_rel_err2s = []\n",
    "    for k in range(kmin, kmax + 1):\n",
    "        succ = 0\n",
    "        mean_rel_err = 0.\n",
    "        mean_rel_err2 = 0.\n",
    "        for _ in range(niter):\n",
    "            nr = NumericalExample3(k=k)\n",
    "            if method == 'OMP':\n",
    "                if noisy:\n",
    "                    greedy = Greedy(nr.A, nr.b, eps=0.01)\n",
    "                else:\n",
    "                    greedy = Greedy(nr.A, nr.y, eps=1e-6)\n",
    "                x, _ = greedy.OMP()\n",
    "            elif method == 'LARS':\n",
    "                if noisy:\n",
    "                    lars = LassoLars(alpha=1e-6, max_iter=10000)\n",
    "                    lars.fit(nr.A, nr.b)\n",
    "                else:\n",
    "                    lars = LassoLars(alpha=1e-6, max_iter=10000)\n",
    "                    lars.fit(nr.A, nr.y)\n",
    "                x = lars.coef_\n",
    "            rel_err, rel_err2 = get_rel_err(x, nr.x, nr.e)\n",
    "            if rel_err < 1e-5:\n",
    "                succ += 1\n",
    "            mean_rel_err += rel_err\n",
    "            mean_rel_err2 += rel_err2\n",
    "        mean_rel_err /= niter\n",
    "        mean_rel_err2 /= niter\n",
    "        print(k, succ, mean_rel_err, mean_rel_err2)\n",
    "        succs.append(succ)\n",
    "        mean_rel_errs.append(mean_rel_err)\n",
    "        mean_rel_err2s.append(mean_rel_err2)\n",
    "    return succs, mean_rel_errs, mean_rel_err2s"
   ]
  },
  {
   "cell_type": "code",
   "execution_count": 586,
   "metadata": {
    "collapsed": false
   },
   "outputs": [
    {
     "data": {
      "image/png": "[encoded data removed]",
      "text/plain": [
       "<matplotlib.figure.Figure at 0x12475ef28>"
      ]
     },
     "metadata": {},
     "output_type": "display_data"
    },
    {
     "data": {
      "image/png": "[encoded data removed]",
      "text/plain": [
       "<matplotlib.figure.Figure at 0x125be1940>"
      ]
     },
     "metadata": {},
     "output_type": "display_data"
    }
   ],
   "source": [
    "from sklearn.linear_model import LassoLars\n",
    "\n",
    "k = 20\n",
    "nr = NumericalExample3(k=k)\n",
    "greedy = Greedy(nr.A, nr.y, eps=1e-6) \n",
    "x1, _ = greedy.OMP()\n",
    "lars = LassoLars(alpha=1e-6, max_iter=10000)\n",
    "lars.fit(nr.A, nr.y)\n",
    "x2 = lars.coef_\n",
    "\n",
    "def plot(x, x0, title=''):\n",
    "    plt.figure()\n",
    "    plt.plot(x)\n",
    "    ndx = np.where(x0 != 0)[0]\n",
    "    plt.plot(ndx, x0[ndx], '.r')\n",
    "    plt.title(title)\n",
    "    \n",
    "plot(x1, nr.x, 'OMP {:.3e}'.format(np.dot(x1 - nr.x, x1 - nr.x) / np.dot(nr.x, nr.x)))\n",
    "plot(x2, nr.x, 'LARS {:.3e}'.format(np.dot(x2 - nr.x, x2 - nr.x) / np.dot(nr.x, nr.x)))"
   ]
  },
  {
   "cell_type": "code",
   "execution_count": 588,
   "metadata": {
    "collapsed": false
   },
   "outputs": [
    {
     "data": {
      "image/png": "[encoded data removed]",
      "text/plain": [
       "<matplotlib.figure.Figure at 0x12410a160>"
      ]
     },
     "metadata": {},
     "output_type": "display_data"
    },
    {
     "data": {
      "image/png": "[encoded data removed]",
      "text/plain": [
       "<matplotlib.figure.Figure at 0x12410a240>"
      ]
     },
     "metadata": {},
     "output_type": "display_data"
    }
   ],
   "source": [
    "k = 70\n",
    "nr = NumericalExample3(k=k)\n",
    "greedy = Greedy(nr.A, nr.b, eps=0.01) \n",
    "x1, _ = greedy.OMP()\n",
    "lars = LassoLars(alpha=1e-4, max_iter=10000)\n",
    "lars.fit(nr.A, nr.b)\n",
    "x2 = lars.coef_\n",
    "\n",
    "err1 = get_rel_err(x1, nr.x, nr.e)\n",
    "err2 = get_rel_err(x2, nr.x, nr.e)\n",
    "plot(x1, nr.x, 'OMP {:.3e} {:.3e}'.format(err1[0], err1[1]))\n",
    "plot(x2, nr.x, 'LARS {:.3e} {:.3e}'.format(err2[0], err2[1]))"
   ]
  },
  {
   "cell_type": "code",
   "execution_count": 512,
   "metadata": {
    "collapsed": false
   },
   "outputs": [
    {
     "name": "stdout",
     "output_type": "stream",
     "text": [
      "1e-10 (0.032158560321900398, 3.4024760277085391)\n",
      "1e-09 (0.032182398096061153, 3.4049981385967141)\n",
      "1e-08 (0.032273599852296671, 3.414647568986946)\n",
      "1e-07 (0.032216325215715297, 3.4085877337202808)\n",
      "1e-06 (0.031802278929220551, 3.3647803446438265)\n",
      "1e-05 (0.028857104675641281, 3.0531717186692515)\n",
      "0.0001 (0.027023933310303144, 2.8592164680980048)\n",
      "0.001 (0.019618296990951235, 2.0756770374051845)\n",
      "0.01 (0.0011880879423458576, 0.12570341153886763)\n",
      "0.1 (0.067678953993385735, 7.1606445138672159)\n",
      "1.0 (0.73118735883421215, 77.361904118035767)\n",
      "10.0 (0.73118735883421215, 77.361904118035767)\n"
     ]
    }
   ],
   "source": [
    "k = 10\n",
    "nr = NumericalExample3(k=k)\n",
    "# for eps in np.linspace(0.001, 0.02, 20):\n",
    "for eps in np.logspace(-10, 1, 12):\n",
    "    greedy = Greedy(nr.A, nr.b, eps=eps) \n",
    "    x, _ = greedy.OMP()\n",
    "    print(eps, get_rel_err(x, nr.x, nr.e))"
   ]
  },
  {
   "cell_type": "code",
   "execution_count": 398,
   "metadata": {
    "collapsed": false
   },
   "outputs": [
    {
     "name": "stdout",
     "output_type": "stream",
     "text": [
      "1 100 9.39237515279e-32 0.0\n",
      "2 100 1.47878659576e-31 0.0\n",
      "3 100 1.27853736133e-30 0.0\n",
      "4 100 2.03981745854e-10 0.0\n",
      "5 100 1.27262625942e-10 0.0\n",
      "6 100 1.49769108697e-30 0.0\n",
      "7 100 1.53016852947e-30 0.0\n",
      "8 100 6.11555287875e-09 0.0\n",
      "9 100 1.12467014126e-08 0.0\n",
      "10 100 1.03760778479e-09 0.0\n",
      "11 100 2.70009685765e-08 0.0\n",
      "12 100 1.09724621835e-08 0.0\n",
      "13 100 5.86694307935e-09 0.0\n",
      "14 100 1.18473456521e-08 0.0\n",
      "15 100 3.82198272623e-08 0.0\n",
      "16 100 3.65076254585e-08 0.0\n",
      "17 100 2.02852227974e-08 0.0\n",
      "18 100 5.22413118822e-08 0.0\n",
      "19 100 2.47824771874e-08 0.0\n",
      "20 100 3.66310550113e-08 0.0\n",
      "21 100 5.3158555223e-08 0.0\n",
      "22 100 6.31453541536e-08 0.0\n",
      "23 100 2.2669839663e-08 0.0\n",
      "24 100 7.49412729458e-08 0.0\n",
      "25 100 3.3950142073e-08 0.0\n",
      "26 100 1.2625748546e-07 0.0\n",
      "27 100 9.97808021378e-08 0.0\n",
      "28 100 6.59305864174e-08 0.0\n",
      "29 100 7.37816025709e-08 0.0\n",
      "30 100 5.11776553391e-08 0.0\n",
      "31 100 5.51857070317e-08 0.0\n",
      "32 100 1.14292284386e-07 0.0\n",
      "33 100 1.00912141586e-07 0.0\n",
      "34 100 1.02977754428e-07 0.0\n",
      "35 98 0.00620201542359 0.0\n",
      "36 100 1.59538412392e-07 0.0\n",
      "37 96 0.0197160631602 0.0\n",
      "38 94 0.0293153147828 0.0\n",
      "39 93 0.0338122369145 0.0\n",
      "40 87 0.0563535772596 0.0\n",
      "41 87 0.042699145789 0.0\n",
      "42 91 0.038480122227 0.0\n",
      "43 85 0.0405732518559 0.0\n",
      "44 84 0.0499641111835 0.0\n",
      "45 75 0.107298331059 0.0\n",
      "46 76 0.120301880439 0.0\n",
      "47 75 0.112104290393 0.0\n",
      "48 64 0.145422896465 0.0\n",
      "49 57 0.175751991007 0.0\n",
      "50 51 0.194547384285 0.0\n",
      "51 46 0.220933215743 0.0\n",
      "52 48 0.180003122716 0.0\n",
      "53 45 0.217987973637 0.0\n",
      "54 46 0.208127071932 0.0\n",
      "55 37 0.267745246552 0.0\n",
      "56 29 0.29719061937 0.0\n",
      "57 30 0.298748865355 0.0\n",
      "58 19 0.397077099294 0.0\n",
      "59 17 0.386993411848 0.0\n",
      "60 15 0.424515934906 0.0\n",
      "61 17 0.349381731662 0.0\n",
      "62 14 0.393997311659 0.0\n",
      "63 3 0.485272001397 0.0\n",
      "64 6 0.456361530113 0.0\n",
      "65 5 0.465790807363 0.0\n",
      "66 4 0.50300174171 0.0\n",
      "67 4 0.569446827079 0.0\n",
      "68 3 0.588816497548 0.0\n",
      "69 2 0.617559415652 0.0\n",
      "70 1 0.62668343195 0.0\n"
     ]
    }
   ],
   "source": [
    "succs, mean_rel_errs, mean_rel_err2s = eval_mean_performance(method='OMP')"
   ]
  },
  {
   "cell_type": "code",
   "execution_count": 400,
   "metadata": {
    "collapsed": false
   },
   "outputs": [
    {
     "name": "stdout",
     "output_type": "stream",
     "text": [
      "1 100 1.01439403364e-08 0.0\n",
      "2 100 2.09995706367e-08 0.0\n",
      "3 100 3.16343865792e-08 0.0\n",
      "4 100 4.55293886085e-08 0.0\n",
      "5 100 5.87595753307e-08 0.0\n",
      "6 100 7.11585302345e-08 0.0\n",
      "7 100 8.13260571367e-08 0.0\n",
      "8 100 9.84335410167e-08 0.0\n",
      "9 100 1.10582953133e-07 0.0\n",
      "10 100 1.29454655848e-07 0.0\n",
      "11 100 1.48376112089e-07 0.0\n",
      "12 100 1.70739153795e-07 0.0\n",
      "13 100 1.86986470227e-07 0.0\n",
      "14 100 2.3109423236e-07 0.0\n",
      "15 100 2.35864519644e-07 0.0\n",
      "16 100 2.60163050187e-07 0.0\n",
      "17 100 3.28103990851e-07 0.0\n",
      "18 100 3.35816039468e-07 0.0\n",
      "19 100 4.40262673211e-07 0.0\n",
      "20 100 4.51182892065e-07 0.0\n",
      "21 100 6.21188828908e-07 0.0\n",
      "22 100 6.04088769501e-07 0.0\n",
      "23 100 7.81036045729e-07 0.0\n",
      "24 100 7.90369040445e-07 0.0\n",
      "25 100 9.31702172039e-07 0.0\n",
      "26 100 1.03557511588e-06 0.0\n",
      "27 98 1.60710239285e-06 0.0\n",
      "28 98 2.03229472608e-06 0.0\n",
      "29 99 2.38058630077e-06 0.0\n",
      "30 98 2.26155846043e-06 0.0\n",
      "31 89 1.16922682231e-05 0.0\n",
      "32 85 0.000119363878773 0.0\n",
      "33 83 0.00253689301096 0.0\n",
      "34 80 0.000661662962002 0.0\n",
      "35 74 0.00195576050137 0.0\n",
      "36 62 0.00233995318128 0.0\n",
      "37 60 0.00227743870967 0.0\n",
      "38 52 0.00641654110169 0.0\n",
      "39 47 0.00804554783108 0.0\n",
      "40 36 0.00724876832513 0.0\n",
      "41 27 0.00884333667063 0.0\n",
      "42 24 0.00719283230499 0.0\n",
      "43 18 0.01555091406 0.0\n",
      "44 16 0.0202560648675 0.0\n",
      "45 14 0.0261149308473 0.0\n",
      "46 15 0.029435460187 0.0\n",
      "47 7 0.0398289061381 0.0\n",
      "48 9 0.0502254288336 0.0\n",
      "49 4 0.0641166885763 0.0\n",
      "50 1 0.0477999754124 0.0\n",
      "51 1 0.0723146913551 0.0\n",
      "52 0 0.0613610781359 0.0\n",
      "53 2 0.0762465845736 0.0\n",
      "54 1 0.0797042319127 0.0\n",
      "55 0 0.100665395749 0.0\n",
      "56 0 0.118700462588 0.0\n",
      "57 0 0.104550480839 0.0\n",
      "58 0 0.113780137736 0.0\n",
      "59 0 0.115837214639 0.0\n",
      "60 0 0.129621460035 0.0\n",
      "61 1 0.131803319239 0.0\n",
      "62 0 0.149249633443 0.0\n",
      "63 0 0.152594996809 0.0\n",
      "64 0 0.152591436218 0.0\n",
      "65 0 0.165456497167 0.0\n",
      "66 0 0.183392795668 0.0\n",
      "67 0 0.165601912896 0.0\n",
      "68 0 0.183723431589 0.0\n",
      "69 0 0.211107261543 0.0\n",
      "70 0 0.201384871587 0.0\n"
     ]
    }
   ],
   "source": [
    "succs2, mean_rel_errs2, mean_rel_err2s2 = eval_mean_performance(method='LARS')"
   ]
  },
  {
   "cell_type": "code",
   "execution_count": 401,
   "metadata": {
    "collapsed": false
   },
   "outputs": [
    {
     "data": {
      "text/plain": [
       "<matplotlib.legend.Legend at 0x1212c4860>"
      ]
     },
     "execution_count": 401,
     "metadata": {},
     "output_type": "execute_result"
    },
    {
     "data": {
      "image/png": "[encoded data removed]",
      "text/plain": [
       "<matplotlib.figure.Figure at 0x12582f400>"
      ]
     },
     "metadata": {},
     "output_type": "display_data"
    }
   ],
   "source": [
    "plt.plot(np.array(succs) / 100., '.-', label='OMP')\n",
    "plt.plot(np.array(succs2) / 100., '.-', label='LARS')\n",
    "plt.ylim(-0.05, 1.05)\n",
    "plt.legend()"
   ]
  },
  {
   "cell_type": "code",
   "execution_count": null,
   "metadata": {
    "collapsed": true
   },
   "outputs": [],
   "source": []
  }
 ],
 "metadata": {
  "kernelspec": {
   "display_name": "Python 3",
   "language": "python",
   "name": "python3"
  },
  "language_info": {
   "codemirror_mode": {
    "name": "ipython",
    "version": 3
   },
   "file_extension": ".py",
   "mimetype": "text/x-python",
   "name": "python",
   "nbconvert_exporter": "python",
   "pygments_lexer": "ipython3",
   "version": "3.5.1"
  }
 },
 "nbformat": 4,
 "nbformat_minor": 0
}
