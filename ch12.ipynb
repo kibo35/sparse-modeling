{
 "cells": [
  {
   "cell_type": "markdown",
   "metadata": {},
   "source": [
    "スパースモデリング第12章　辞書の探求\n",
    "=="
   ]
  },
  {
   "cell_type": "code",
   "execution_count": 1,
   "metadata": {
    "collapsed": true
   },
   "outputs": [],
   "source": [
    "from matplotlib.font_manager import FontProperties\n",
    "\n",
    "font_path = u'/Library/Fonts/ヒラギノ角ゴ Pro W3.otf'\n",
    "font_prop = FontProperties(fname=font_path)\n",
    "plt.rc('font',family=font_prop.get_name())"
   ]
  },
  {
   "cell_type": "markdown",
   "metadata": {},
   "source": [
    "ランダムな辞書を生成\n",
    "--"
   ]
  },
  {
   "cell_type": "code",
   "execution_count": 95,
   "metadata": {
    "collapsed": false
   },
   "outputs": [
    {
     "data": {
      "text/plain": [
       "<matplotlib.colorbar.Colorbar at 0x1187a8cc0>"
      ]
     },
     "execution_count": 95,
     "metadata": {},
     "output_type": "execute_result"
    },
    {
     "data": {
      "image/png": "[encoded data removed]",
      "text/plain": [
       "<matplotlib.figure.Figure at 0x118ec5908>"
      ]
     },
     "metadata": {},
     "output_type": "display_data"
    }
   ],
   "source": [
    "A0 = np.random.randn(30, 60)\n",
    "A0 = np.dot(A0, np.diag(1. / np.sqrt(np.diag(np.dot(A0.T, A0)))))\n",
    "\n",
    "plt.imshow(A0, cmap='gray', interpolation='Nearest')\n",
    "plt.colorbar(fraction=0.024, pad=0.04)"
   ]
  },
  {
   "cell_type": "markdown",
   "metadata": {},
   "source": [
    "信号事例を生成\n",
    "--"
   ]
  },
  {
   "cell_type": "code",
   "execution_count": 96,
   "metadata": {
    "collapsed": false
   },
   "outputs": [
    {
     "data": {
      "text/plain": [
       "(0, 29)"
      ]
     },
     "execution_count": 96,
     "metadata": {},
     "output_type": "execute_result"
    },
    {
     "data": {
      "image/png": "[encoded data removed]",
      "text/plain": [
       "<matplotlib.figure.Figure at 0x1191d9dd8>"
      ]
     },
     "metadata": {},
     "output_type": "display_data"
    }
   ],
   "source": [
    "Y = np.zeros((30, 4000))\n",
    "sig = 0.1\n",
    "for i in range(4000):\n",
    "    Y[:, i] = np.dot(A0[:, np.random.randint(60, size=4)], np.random.randn(4)) + np.random.randn(30) * sig\n",
    "    \n",
    "plt.bar(range(30), Y[:, 0])\n",
    "plt.xlim(0, 29)"
   ]
  },
  {
   "cell_type": "markdown",
   "metadata": {},
   "source": [
    "追跡法\n",
    "--"
   ]
  },
  {
   "cell_type": "code",
   "execution_count": 97,
   "metadata": {
    "collapsed": true
   },
   "outputs": [],
   "source": [
    "def OMP(A, b, k0, eps):\n",
    "    \"\"\" \n",
    "    直交マッチング追跡(orthogonal matching pursuit; OMP) \n",
    "    \n",
    "    A nxm行列\n",
    "    b n要素の観測\n",
    "    eps 誤差の閾値\n",
    "\n",
    "    \"\"\"\n",
    "    # 初期化\n",
    "    x = np.zeros(A.shape[1])\n",
    "    S = np.zeros(A.shape[1], dtype=np.uint8)\n",
    "    r = b.copy()\n",
    "    rr = np.dot(r, r)\n",
    "    for _ in range(k0):\n",
    "        # 誤差計算\n",
    "        err = rr - np.dot(A[:, S == 0].T, r) ** 2\n",
    "            \n",
    "        # サポート更新\n",
    "        ndx = np.where(S == 0)[0]\n",
    "        S[ndx[err.argmin()]] = 1\n",
    "    \n",
    "        # 解更新\n",
    "        As = A[:, S == 1]\n",
    "        pinv = np.linalg.pinv(np.dot(As, As.T))\n",
    "        x[S == 1] = np.dot(As.T, np.dot(pinv, b))\n",
    "        \n",
    "        # 残差更新\n",
    "        r = b - np.dot(A, x)\n",
    "        rr = np.dot(r, r)\n",
    "        if rr < eps:\n",
    "            break\n",
    "            \n",
    "    return x, S"
   ]
  },
  {
   "cell_type": "markdown",
   "metadata": {},
   "source": [
    "MOD辞書学習アルゴリズム\n",
    "--"
   ]
  },
  {
   "cell_type": "code",
   "execution_count": 98,
   "metadata": {
    "collapsed": false
   },
   "outputs": [
    {
     "name": "stdout",
     "output_type": "stream",
     "text": [
      "0 79.996337843\n",
      "1 70.4773198391\n",
      "2 66.3341648708\n",
      "3 63.6113490059\n",
      "4 61.2458564697\n",
      "5 58.9246826401\n",
      "6 56.7439500961\n",
      "7 54.4496004024\n",
      "8 52.2213269613\n",
      "9 50.1308900133\n",
      "10 47.9592241482\n",
      "11 45.3691276583\n",
      "12 42.8605044236\n",
      "13 40.6804806643\n",
      "14 39.1492034575\n",
      "15 38.1206898487\n",
      "16 37.3152859581\n",
      "17 36.7247879805\n",
      "18 36.3272723529\n",
      "19 36.0273322754\n",
      "20 35.373119856\n",
      "21 34.7313723742\n",
      "22 34.3807430822\n",
      "23 34.2131887855\n",
      "24 34.2053620755\n",
      "25 34.154774673\n",
      "26 34.120217877\n",
      "27 34.1034395693\n",
      "28 34.0542182103\n",
      "29 34.0103022973\n",
      "30 33.9826220561\n",
      "31 33.9108159774\n",
      "32 33.7845182081\n",
      "33 33.5879542252\n",
      "34 33.3646629068\n",
      "35 33.2755676172\n",
      "36 33.2753388293\n",
      "37 33.2488781134\n",
      "38 33.2105092817\n",
      "39 33.1680867079\n",
      "40 33.1210199803\n",
      "41 33.0923314125\n",
      "42 33.0897998378\n",
      "43 33.0826042055\n",
      "44 33.0829024867\n",
      "45 33.0803909523\n",
      "46 33.0818598638\n",
      "47 33.0823478953\n",
      "48 33.0834185189\n",
      "49 33.085330331\n"
     ]
    },
    {
     "data": {
      "text/plain": [
       "<matplotlib.colorbar.Colorbar at 0x11afda0b8>"
      ]
     },
     "execution_count": 98,
     "metadata": {},
     "output_type": "execute_result"
    },
    {
     "data": {
      "image/png": "[encoded data removed]",
      "text/plain": [
       "<matplotlib.figure.Figure at 0x1191e4a58>"
      ]
     },
     "metadata": {},
     "output_type": "display_data"
    }
   ],
   "source": [
    "# 初期辞書\n",
    "A = np.random.randn(30, 60)\n",
    "A = np.dot(A, np.diag(1. / np.sqrt(np.diag(np.dot(A.T, A)))))\n",
    "\n",
    "X = np.zeros((A.shape[1], Y.shape[1]))\n",
    "eps = A.shape[0] * (sig ** 2)\n",
    "k0 = 4\n",
    "n_iter = 50\n",
    "\n",
    "for k in range(n_iter):\n",
    "    for i in range(Y.shape[1]):\n",
    "        X[:, i], _ = OMP(A, Y[:, i], k0, eps=eps)\n",
    "\n",
    "    A = np.dot(Y, np.dot(X.T, np.linalg.pinv(np.dot(X, X.T))))\n",
    "    A = np.dot(A, np.diag(1. / np.sqrt(np.diag(np.dot(A.T, A)))))\n",
    "\n",
    "    err = np.linalg.norm(Y - np.dot(A, X))\n",
    "    print(k, err)\n",
    "    if k == 0:\n",
    "        err_old = err\n",
    "    else:\n",
    "        opt = err_old - err\n",
    "        if opt < 1e-6:\n",
    "            break\n",
    "        \n",
    "plt.imshow(A, cmap='gray', interpolation='Nearest')\n",
    "plt.colorbar(fraction=0.024, pad=0.04)"
   ]
  },
  {
   "cell_type": "code",
   "execution_count": 94,
   "metadata": {
    "collapsed": false
   },
   "outputs": [
    {
     "data": {
      "text/plain": [
       "0"
      ]
     },
     "execution_count": 94,
     "metadata": {},
     "output_type": "execute_result"
    }
   ],
   "source": [
    "np.sum(np.diag(np.dot(A0.T, A)) > 0.99)"
   ]
  },
  {
   "cell_type": "code",
   "execution_count": null,
   "metadata": {
    "collapsed": true
   },
   "outputs": [],
   "source": []
  }
 ],
 "metadata": {
  "kernelspec": {
   "display_name": "Python 3",
   "language": "python",
   "name": "python3"
  },
  "language_info": {
   "codemirror_mode": {
    "name": "ipython",
    "version": 3
   },
   "file_extension": ".py",
   "mimetype": "text/x-python",
   "name": "python",
   "nbconvert_exporter": "python",
   "pygments_lexer": "ipython3",
   "version": "3.5.2"
  }
 },
 "nbformat": 4,
 "nbformat_minor": 0
}
